{
 "cells": [
  {
   "cell_type": "markdown",
   "metadata": {},
   "source": [
    "# Compressible Boundary layer"
   ]
  },
  {
   "cell_type": "markdown",
   "metadata": {},
   "source": [
    "## Equations"
   ]
  },
  {
   "cell_type": "markdown",
   "metadata": {},
   "source": [
    "The compressible equations are given by:\n",
    "$$\n",
    "\\begin{align}\n",
    " (Cf^{''})^{'} + ff^{''} &=0 \\\\\n",
    "\\left(\\frac{C}{Pr}g_e^{'}\\right)^{'} + fg_e^{'} + C\\frac{u_e}{h_e}\\left(f^{''}\\right)^2 &=0\n",
    "\\end{align}\n",
    "$$\n",
    "With the boundary conditions:\n",
    "$$f(0)=0,\\quad f^{'}(0)=0,\\quad g_e(0)=g_{e-w}$$\n",
    "And the $Pr$ and $C$ given by:\n",
    "$$\n",
    "\\begin{align}\n",
    "Pr(g_e) &= \\frac{\\mu(g_e) c_p(g_e)} {k(g_e)} \\\\\n",
    "C(g_e) &=\\frac{\\rho(g_e) \\mu(g_e)}{\\rho_e\\rho_e} \\\\\n",
    "\\end{align}\n",
    "$$"
   ]
  },
  {
   "cell_type": "markdown",
   "metadata": {},
   "source": [
    "## Derivation ODE"
   ]
  },
  {
   "cell_type": "markdown",
   "metadata": {},
   "source": [
    "Rewrite using product rule\n",
    "\\begin{align}\n",
    " Cf^{'''} + \\left(C^{'}+ f\\right)f^{''} &=0 \\\\\n",
    "\\frac{C}{Pr}g_e^{''}  + \\left(\\frac{C^{'}}{Pr} + C\\left(\\frac{1}{Pr}\\right)^{'} + f \\right)g_e^{'} + C\\frac{u_e}{h_e}\\left(f^{''}\\right)^2 &=0\n",
    "\\end{align}\n",
    "Further rewritten\n",
    "$$ \\frac{C}{Pr}g_e^{''}  + \\left(\\frac{C^{'}}{Pr} + \\frac{C}{Pr^2}{Pr}^{'} + f \\right)g_e^{'} + C\\frac{u_e}{h_e}\\left(f^{''}\\right)^2 =0 $$"
   ]
  },
  {
   "cell_type": "markdown",
   "metadata": {},
   "source": [
    "Define the following variables:\n",
    "$$\n",
    "\\begin{align}\n",
    "g &= f^{'}  \\\\\n",
    "h &= g^{'}  \\\\\n",
    "t &= g_e^{'}\n",
    "\\end{align}\n",
    "$$"
   ]
  },
  {
   "cell_type": "markdown",
   "metadata": {},
   "source": [
    "Pluggin into original equations gives:\n",
    "\n",
    "\\begin{align}\n",
    "Ch^{'} + \\left(C^{'}+f\\right) h &= 0 \\\\\n",
    "f' &= g \\\\\n",
    "g' &= h \\\\\n",
    "\\frac{C}{Pr}t^{'}  + \\left(\\frac{C^{'}}{Pr} + \\frac{C}{Pr^2}{Pr}^{'} + f \\right)t + C\\frac{u_e}{h_e}\\left(h\\right)^2 &=0 \\\\\n",
    "g_e^{'} &= t\n",
    "\\end{align}\n",
    "\n",
    "with\n",
    "\\begin{align}\n",
    "C' &= \\frac{1}{\\rho_e \\mu_e}\\left(\\rho^{'}\\mu + \\rho\\mu^{'}\\right) \\\\\n",
    "Pr' &= \\frac{1}{k}\\left(\\mu^{'}c_p + \\mu c_p^{'} \\right) - \\frac{\\mu c_p}{k^2} k^{'}\n",
    "\\end{align}\n",
    "\n"
   ]
  },
  {
   "cell_type": "markdown",
   "metadata": {},
   "source": [
    "This gives the following ODEs to be solved"
   ]
  },
  {
   "cell_type": "markdown",
   "metadata": {},
   "source": [
    "\\begin{align}\n",
    "h^{'} &=- \\frac{\\left(C^{'}+f\\right)}{C} h  \\\\\n",
    "f' &= g \\\\\n",
    "g' &= h \\\\\n",
    "t^{'}  &=- \\left(\\frac{C^{'}}{C} + \\frac{1}{Pr}{Pr}^{'} + \\frac{fPr}{C} \\right)t - Pr\\frac{u_e}{h_e}\\left(h\\right)^2 \\\\\n",
    "g_e^{'} &= t\n",
    "\\end{align}\n",
    "\n"
   ]
  },
  {
   "cell_type": "markdown",
   "metadata": {},
   "source": [
    "With:\n",
    "$$\n",
    "\\begin{align}\n",
    "C' &= \\frac{1}{\\rho_e \\mu_e}\\left(\\rho^{'}\\mu + \\rho\\mu^{'}\\right) \\\\\n",
    "Pr' &= \\frac{1}{k}\\left(\\mu^{'}c_p + \\mu c_p^{'} \\right) - \\frac{\\mu c_p}{k^2} k^{'}\n",
    "\\end{align}\n",
    "$$"
   ]
  },
  {
   "cell_type": "markdown",
   "metadata": {},
   "source": [
    "\n",
    "## Thermodynamic properties\n",
    "$$\n",
    "\\begin{align}\n",
    "Pr(g_e) &= \\frac{\\mu(g_e) c_p(g_e)} {k(g_e)} \\\\\n",
    "C(g_e) &=\\frac{\\rho(g_e) \\mu(g_e)}{\\rho_e\\mu_e} \\\\\n",
    "C' &= \\frac{1}{\\rho_e \\mu_e}\\left(\\rho^{'}\\mu + \\rho\\mu^{'}\\right) \\\\\n",
    "Pr' &= \\frac{1}{k}\\left(\\mu^{'}c_p + \\mu c_p^{'} \\right) - \\frac{\\mu c_p}{k^2} k^{'}\n",
    "\\end{align}\n",
    "$$"
   ]
  },
  {
   "cell_type": "code",
   "execution_count": 496,
   "metadata": {},
   "outputs": [],
   "source": [
    "import CoolProp.CoolProp as CP\n",
    "class tstate(object):\n",
    "    def __init__(self, fluid, ge0, p0):\n",
    "        self.ge0 = ge0\n",
    "        self.p0 = p0        \n",
    "        self.BICU = CP.AbstractState(\"BICUBIC&HEOS\", fluid)\n",
    "        self.BICU2 = CP.AbstractState(\"BICUBIC&HEOS\", fluid)\n",
    "        self.delta = 1e-10\n",
    "        self.set_zeroprop()\n",
    "    \n",
    "    def set_zeroprop(self):\n",
    "        self.BICU.update(CP.HmassP_INPUTS,self.ge0,self.p0)  \n",
    "        self.mu0 = self.BICU.viscosity() \n",
    "        self.rho0= self.BICU.rhomass() \n",
    "        \n",
    "    def set_prop(self,ge,t):\n",
    "        self.BICU. update(CP.HmassP_INPUTS,self.ge0*ge,self.p0)  \n",
    "        self.BICU2.update(CP.HmassP_INPUTS,self.ge0*ge+self.delta,self.p0)  \n",
    "        #properties\n",
    "        self.rho= self.BICU.rhomass()\n",
    "        self.mu = self.BICU.viscosity()\n",
    "        self.cp = self.BICU.cpmass()\n",
    "        self.k  = self.BICU.conductivity()\n",
    "        self.Pr = self.mu*self.cp/self.k\n",
    "        self.C = rho(ge)*mu(ge)/(rho0*mu0)\n",
    "        #derivatives\n",
    "        self.dercp = (self.BICU2.cpmass()- self.cp)     /self.delta\n",
    "        self.derk =  (self.BICU2.conductivity()- self.k)/self.delta\n",
    "        self.dermu = (self.BICU2.viscosity()- self.mu)  /self.delta\n",
    "        self.derrho =(self.BICU2.rhomass()- self.rho)   /self.delta\n",
    "        self.derPr = (1/(self.rho0*self.mu0))*(self.derrho*self.mu+self.rho*self.dermu)*t\n",
    "        self.derC =  (1/self.k)*(self.dermu*self.cp+self.mu*self.dercp)*t - \\\n",
    "                     ((self.mu*self.cp)/(self.k**2))*self.derk*t\n",
    "        \n",
    "        \n"
   ]
  },
  {
   "cell_type": "markdown",
   "metadata": {},
   "source": [
    "## Solve ODES\n",
    "### Numerical Method\n",
    "$$\n",
    "\\begin{align}\n",
    "h(x+\\Delta x) &= h(x) -\\frac{C^{'}+f(x)}{C}h(x)\\Delta x& \\\\\n",
    "f(x+\\Delta x) &= f(x) +g(x)\\Delta x&      \\\\\n",
    "g(x+\\Delta x) &= g(x) +h(x)\\Delta x&      \\\\\n",
    "t(x+\\Delta x) &= t(x) -\\left(\\left(\\frac{C^{'}}{C} + \\frac{Pr^{'}}{Pr} + \\frac{fPr}{C} \\right)t(x) + Pr\\frac{u_e}{h_e}h(x)^2\\right)\\Delta x& \\\\\n",
    "g_e(x+\\Delta x)&= g_e(x)+t(x)\\Delta x& \\\\\n",
    "\\end{align} \n",
    "$$"
   ]
  },
  {
   "cell_type": "code",
   "execution_count": 489,
   "metadata": {},
   "outputs": [],
   "source": [
    "import numpy as np\n",
    "from scipy.optimize import minimize\n",
    "n=100000\n",
    "ge0 = 1e6\n",
    "p0  = 2e6\n",
    "ue = 10\n",
    "he = 1\n",
    "ts = tstate(\"CO2\", ge0, p0)\n",
    "#mesh\n",
    "x = np.linspace(0,10,n); dx = np.diff(x)\n",
    "#initialization\n",
    "f = np.zeros(n); g = np.zeros(n); h = np.zeros(n)\n",
    "ge = np.zeros(n); t = np.zeros(n)\n",
    "#bc\n",
    "f[0]=0; g[0]=0; ge[0]=0.9\n",
    "#initial guess\n",
    "h0=0.47197387; t0=0.22206645\n",
    "\n",
    "def solve_ode(x):\n",
    "    h[0]=x[0]\n",
    "    t[0]=x[1]\n",
    "    for i in range(0,n-1):\n",
    "        ip=i+1\n",
    "        ts.set_prop(ge[i], t[i])\n",
    "        h[ip]=h[i]  -((ts.derC + f[i])/ts.C)*h[i]*dx[i]\n",
    "        f[ip]=f[i] + g[i]*dx[i]\n",
    "        g[ip]=g[i] + h[i]*dx[i]\n",
    "        t[ip]=t[i] -((ts.derC/ts.C +ts.derPr/ts.Pr + (f[i]*ts.Pr)/ts.C)*t[i] \n",
    "                   + ts.Pr*h[i]**2)*dx[i]\n",
    "        ge[ip]=ge[i]+t[i]*dx[i]\n",
    "    error = abs(1-g[-1])+abs(1-ge[-1])\n",
    "    return error\n",
    "\n",
    "res = minimize(solve_ode, [h0,t0], method='Nelder-Mead', options={'xtol': 1e-6, 'disp': True})"
   ]
  },
  {
   "cell_type": "code",
   "execution_count": 490,
   "metadata": {},
   "outputs": [
    {
     "data": {
      "text/plain": [
       "4.841907279562463e-07"
      ]
     },
     "execution_count": 490,
     "metadata": {},
     "output_type": "execute_result"
    }
   ],
   "source": [
    "solve_ode([h0,t0])"
   ]
  },
  {
   "cell_type": "markdown",
   "metadata": {},
   "source": [
    "## Plot solution"
   ]
  },
  {
   "cell_type": "code",
   "execution_count": 494,
   "metadata": {},
   "outputs": [
    {
     "data": {
      "image/png": "[encoded data removed]",
      "text/plain": [
       "<Figure size 432x288 with 1 Axes>"
      ]
     },
     "metadata": {},
     "output_type": "display_data"
    }
   ],
   "source": [
    "import matplotlib.pyplot as plt\n",
    "%matplotlib inline\n",
    "fig,ax = plt.subplots()\n",
    "ax.plot(f, x,label='f')\n",
    "ax.plot(g, x,label='g')\n",
    "ax.plot(h, x,label='h')\n",
    "ax.plot(ge, x,label='ge')\n",
    "ax.plot(t, x,label='t')\n",
    "ax.set_xbound(-.1,1.5)\n",
    "ax.set_ybound(0,10)\n",
    "ax.legend()\n",
    "plt.savefig(\"blasius_vp.png\")"
   ]
  },
  {
   "cell_type": "markdown",
   "metadata": {},
   "source": [
    "## Store solution"
   ]
  },
  {
   "cell_type": "code",
   "execution_count": 492,
   "metadata": {},
   "outputs": [],
   "source": [
    "import pandas as pd\n",
    "df = pd.DataFrame(np.array([x,f,g,h,ge,t]).T,columns=['x','f','g','h','ge','t'])\n",
    "df.to_csv(\"blasius_vp.csv\",index=None, sep=\"\\t\", header=True)"
   ]
  },
  {
   "cell_type": "code",
   "execution_count": null,
   "metadata": {},
   "outputs": [],
   "source": []
  }
 ],
 "metadata": {
  "kernelspec": {
   "display_name": "Python 3",
   "language": "python",
   "name": "python3"
  },
  "language_info": {
   "codemirror_mode": {
    "name": "ipython",
    "version": 3
   },
   "file_extension": ".py",
   "mimetype": "text/x-python",
   "name": "python",
   "nbconvert_exporter": "python",
   "pygments_lexer": "ipython3",
   "version": "3.5.2"
  }
 },
 "nbformat": 4,
 "nbformat_minor": 2
}

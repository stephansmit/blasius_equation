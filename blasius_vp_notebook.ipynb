{
 "cells": [
  {
   "cell_type": "markdown",
   "metadata": {},
   "source": [
    "# Compressible Boundary layer"
   ]
  },
  {
   "cell_type": "markdown",
   "metadata": {},
   "source": [
    "## Equations"
   ]
  },
  {
   "cell_type": "markdown",
   "metadata": {},
   "source": [
    "The compressible equations are given by:\n",
    "$$\n",
    "\\begin{align}\n",
    " (Cf^{''})^{'} + ff^{''} &=0 \\\\\n",
    "\\left(\\frac{C}{Pr}g_e^{'}\\right)^{'} + fg_e^{'} + C\\frac{u_\\infty}{h_{t\\infty}}\\left(f^{''}\\right)^2 &=0\n",
    "\\end{align}\n",
    "$$\n",
    "With the boundary conditions:\n",
    "$$f(0)=0,\\quad f^{'}(0)=0,\\quad g_e(0)=g_{e-w}$$\n",
    "Where \n",
    "$$\n",
    "f^{'} = \\frac{u}{u_{\\infty}}, \\quad g_{e} = \\frac{h_t}{h_{t\\infty}}, \\quad h_s = h_t - \\frac{1}{2}u^2\n",
    "$$\n",
    "and the $Pr$ and $C$ given by:\n",
    "$$\n",
    "Pr(h_s) = \\frac{\\mu(h_s) c_p(h_s)} {k(h_s)}, \\quad C(h_s) =\\frac{\\rho(h_s) \\mu(h_s)}{\\rho_\\infty\\rho_\\infty} \\\\\n",
    "$$\n"
   ]
  },
  {
   "cell_type": "markdown",
   "metadata": {},
   "source": [
    "## Derivation ODE"
   ]
  },
  {
   "cell_type": "markdown",
   "metadata": {},
   "source": [
    "Rewrite using product rule\n",
    "\\begin{align}\n",
    " Cf^{'''} + \\left(C^{'}+ f\\right)f^{''} &=0 \\\\\n",
    "\\frac{C}{Pr}g_e^{''}  + \\left(\\frac{C^{'}}{Pr} + C\\left(\\frac{1}{Pr}\\right)^{'} + f \\right)g_e^{'} + C\\frac{u_\\infty}{h_{t\\infty}}\\left(f^{''}\\right)^2 &=0\n",
    "\\end{align}\n",
    "Further rewritten\n",
    "$$ \\frac{C}{Pr}g_e^{''}  + \\left(\\frac{C^{'}}{Pr} + \\frac{C}{Pr^2}{Pr}^{'} + f \\right)g_e^{'} + C\\frac{u_\\infty}{h_{t\\infty}}\\left(f^{''}\\right)^2 =0 $$"
   ]
  },
  {
   "cell_type": "markdown",
   "metadata": {},
   "source": [
    "Define the following variables:\n",
    "$$\n",
    "\\begin{align}\n",
    "g &= f^{'}  \\\\\n",
    "h &= g^{'}  \\\\\n",
    "t &= g_e^{'}\n",
    "\\end{align}\n",
    "$$"
   ]
  },
  {
   "cell_type": "markdown",
   "metadata": {},
   "source": [
    "Pluggin into original equations gives:\n",
    "$$\n",
    "\\begin{align}\n",
    "Ch^{'} + \\left(C^{'}+f\\right) h &= 0 \\\\\n",
    "f' &= g \\\\\n",
    "g' &= h \\\\\n",
    "\\frac{C}{Pr}t^{'}  + \\left(\\frac{C^{'}}{Pr} + \\frac{C}{Pr^2}{Pr}^{'} + f \\right)t + C\\frac{u_{\\infty}}{h_{t\\infty}}\\left(h\\right)^2 &=0 \\\\\n",
    "g_e^{'} &= t\n",
    "\\end{align}\n",
    "$$\n",
    "with\n",
    "$$\n",
    "\\begin{align}\n",
    "C' &= \\frac{1}{\\rho_\\infty \\mu_\\infty}\\left(\\rho^{'}\\mu + \\rho\\mu^{'}\\right) \\\\\n",
    "Pr' &= \\frac{1}{k}\\left(\\mu^{'}c_p + \\mu c_p^{'} \\right) - \\frac{\\mu c_p}{k^2} k^{'}\n",
    "\\end{align}\n",
    "$$\n"
   ]
  },
  {
   "cell_type": "markdown",
   "metadata": {},
   "source": [
    "This gives the following ODEs to be solved"
   ]
  },
  {
   "cell_type": "markdown",
   "metadata": {},
   "source": [
    "$$\n",
    "\\begin{align}\n",
    "h^{'} &=- \\frac{\\left(C^{'}+f\\right)}{C} h  \\\\\n",
    "f' &= g \\\\\n",
    "g' &= h \\\\\n",
    "t^{'}  &=- \\left(\\frac{C^{'}}{C} + \\frac{Pr}{Pr}^{'} + \\frac{fPr}{C} \\right)t - Pr\\frac{u_\\infty}{h_{t\\infty}}\\left(h\\right)^2 \\\\\n",
    "g_e^{'} &= t\n",
    "\\end{align}\n",
    "$$\n"
   ]
  },
  {
   "cell_type": "markdown",
   "metadata": {},
   "source": [
    "With:\n",
    "$$\n",
    "\\begin{align}\n",
    "C' &= \\frac{1}{\\rho_\\infty \\mu_\\infty}\\left(\\rho^{'}\\mu + \\rho\\mu^{'}\\right) \\\\\n",
    "Pr' &= \\frac{1}{k}\\left(\\mu^{'}c_p + \\mu c_p^{'} \\right) - \\frac{\\mu c_p}{k^2} k^{'}\n",
    "\\end{align}\n",
    "$$"
   ]
  },
  {
   "cell_type": "markdown",
   "metadata": {},
   "source": [
    "\n",
    "## Thermodynamic properties\n",
    "$$\n",
    "\\begin{align}\n",
    "Pr(h_s) &= \\frac{\\mu(h_s) c_p(h_s)} {k(h_s)} \\\\ \n",
    "C(h_s)  &=\\frac{\\rho(h_s) \\mu(h_s)}{\\rho_\\infty\\rho_\\infty} \\\\\n",
    "\\end{align}\n",
    "$$\n",
    "Given that:\n",
    "$$\n",
    "h_s' = h_t{'} - \\frac{1}{2} \\left( u^2 \\right)^{'} = (h_{t\\infty}g_e)^{'} - uu^{'} = h_{t\\infty}t - u_\\infty^2 g h\n",
    "$$\n",
    "Results in:\n",
    "$$\n",
    "\\begin{align}\n",
    "C' &= \\frac{\\partial C}{\\partial h_s} h_s^{'} = \\frac{\\partial C}{\\partial h_s}  \\left(h_{t\\infty}t - u_\\infty^2 g h\\right)\\\\\n",
    "Pr' &= \\frac{\\partial Pr}{\\partial h_s} h_s^{'} =  \\frac{\\partial Pr}{\\partial h_s} \\left(h_{t\\infty}t - u_\\infty^2 g h\\right)\n",
    "\\end{align}\n",
    "$$"
   ]
  },
  {
   "cell_type": "code",
   "execution_count": 630,
   "metadata": {},
   "outputs": [],
   "source": [
    "from scipy.interpolate import interp1d\n",
    "import  CoolProp.CoolProp as CP\n",
    "class ThermodynamicTable(object):\n",
    "    def __init__(self, fluid, p, Tmin, Tmax, T_inf, n):\n",
    "        self.fluid = fluid\n",
    "        self.P = p\n",
    "        self.n  = n\n",
    "        self.Tmin = Tmin\n",
    "        self.Tmax = Tmax\n",
    "        self._set_zeroprop(T_inf)\n",
    "        self._create_vectors()\n",
    "        self._create_functions()\n",
    "    \n",
    "    def set_prop(self,hs,g,h,t,u_inf,h_inf):\n",
    "        self.Pr   = self.Prf(hs)\n",
    "        self.C    = self.Cf(hs)\n",
    "        self.derPr= self.derPrf(hs)*(h_inf*t-(u_inf**2)*g*h)\n",
    "        self.derC = self.derCf (hs)*(h_inf*t-(u_inf**2)*g*h)\n",
    "                    \n",
    "    def _set_zeroprop(self, T_inf):\n",
    "        self.mu0 = CP.PropsSI(\"V\", 'P', self.P, \"T\", T_inf, self.fluid)\n",
    "        self.rho0= CP.PropsSI(\"D\", 'P', self.P, \"T\", T_inf, self.fluid)\n",
    "        self.T0  = T_inf\n",
    "\n",
    "    def _create_vectors(self):\n",
    "        self.Tvec    = np.array([self.Tmin+(self.Tmax-self.Tmin)*i/(self.n-1) for i in range(0,self.n)])\n",
    "        self.Hvec    = np.array([CP.PropsSI(\"H\", 'P', self.P, \"T\", h, self.fluid) for h in self.Tvec])\n",
    "        self.Prvec   = np.array([self._calc_Pr(h) for h in self.Hvec])\n",
    "        self.Cvec    = np.array([self._calc_C (h) for h in self.Hvec])\n",
    "        self.derCvec = np.array([self._calc_derivative(self._calc_Pr,h) for h in self.Hvec])\n",
    "        self.derPrvec= np.array([self._calc_derivative(self._calc_C, h) for h in self.Hvec])\n",
    " \n",
    "    def _create_functions(self):\n",
    "        self.Prf   = interp1d(self.Hvec, self.Prvec,    kind='cubic')\n",
    "        self.Cf    = interp1d(self.Hvec, self.Cvec ,    kind='cubic')\n",
    "        self.derPrf= interp1d(self.Hvec, self.derPrvec, kind='cubic')\n",
    "        self.derCf = interp1d(self.Hvec, self.derCvec , kind='cubic')\n",
    "    \n",
    "    def _calc_C(self,H):\n",
    "        rho = CP.PropsSI(\"D\",'P',self.P, \"H\", H, self.fluid)\n",
    "        mu  = CP.PropsSI(\"V\",'P',self.P, \"H\", H, self.fluid)\n",
    "        return (rho*mu)/(self.rho0*self.mu0)\n",
    "        \n",
    "    def _calc_Pr(self,H):\n",
    "        mu = CP.PropsSI(\"V\",'P',self.P, \"H\", H, self.fluid)\n",
    "        cp = CP.PropsSI(\"C\",'P',self.P, \"H\", H, self.fluid)\n",
    "        k  = CP.PropsSI(\"L\",'P',self.P, \"H\", H, self.fluid)\n",
    "        return (mu*cp)/k\n",
    "               \n",
    "    def _calc_derivative(self,function, h):\n",
    "        delta = 1e-1\n",
    "        y2 = function(h+delta)\n",
    "        y1 = function(h)\n",
    "        return (y2-y1)/delta\n",
    "        \n",
    "    def plot(self):\n",
    "        fig, ax = plt.subplots()\n",
    "        ax.plot (self.Hvec/1e3, self.Prvec,   color='r', linestyle='--', label='Pr' )\n",
    "        ax.plot (self.Hvec/1e3, self.Cvec,    color='r', linestyle='-' , label='C'  )\n",
    "        ax.set_xlabel(\"Enthalpy [kJ/kg]\")\n",
    "        ax.set_ylabel(\"-\")\n",
    "        ax1 = ax.twinx()\n",
    "        ax1.plot(self.Hvec/1e3, self.derPrvec,color='b', linestyle='--', label=\"Pr'\")\n",
    "        ax1.plot(self.Hvec/1e3, self.derCvec, color='b', linestyle='-' , label=\"C'\" )\n",
    "        ax.legend()\n",
    "        ax1.legend()\n",
    "        "
   ]
  },
  {
   "cell_type": "code",
   "execution_count": 632,
   "metadata": {},
   "outputs": [
    {
     "data": {
      "image/png": "[encoded data removed]",
      "text/plain": [
       "<Figure size 432x288 with 2 Axes>"
      ]
     },
     "metadata": {},
     "output_type": "display_data"
    }
   ],
   "source": [
    "ts = ThermodynamicTable(\"CO2\", p_inf, T_inf*0.9, T_wall*1.1, T_inf, 100)\n",
    "ts.plot()"
   ]
  },
  {
   "cell_type": "markdown",
   "metadata": {},
   "source": [
    "## Solve ODES\n",
    "### Numerical Method\n",
    "$$\n",
    "\\begin{align}\n",
    "h(x+\\Delta x) &= h(x) -\\frac{C^{'}+f(x)}{C}h(x)\\Delta x& \\\\\n",
    "f(x+\\Delta x) &= f(x) +g(x)\\Delta x&      \\\\\n",
    "g(x+\\Delta x) &= g(x) +h(x)\\Delta x&      \\\\\n",
    "t(x+\\Delta x) &= t(x) -\\left(\\left(\\frac{C^{'}}{C} + \\frac{Pr^{'}}{Pr} + \\frac{fPr}{C} \\right)t(x) + Pr\\frac{u_\\infty}{h_{t\\infty}}h(x)^2\\right)\\Delta x& \\\\\n",
    "g_e(x+\\Delta x)&= g_e(x)+t(x)\\Delta x& \\\\\n",
    "\\end{align} \n",
    "$$"
   ]
  },
  {
   "cell_type": "code",
   "execution_count": 652,
   "metadata": {},
   "outputs": [],
   "source": [
    "import numpy as np\n",
    "from scipy.optimize import minimize\n",
    "fluid = \"CO2\"\n",
    "\n",
    "#free stream properties\n",
    "p_inf = 100e5  # [Pa]\n",
    "u_inf = 10     # [m/s]\n",
    "T_inf = 480    # [K]\n",
    "T_wall= 520    # [K]\n",
    "ht_w  = CP.PropsSI('H','T', T_wall, \"P\", p0, fluid )\n",
    "ht_inf= CP.PropsSI('H','T', T_inf , \"P\", p0, fluid ) \n",
    "\n",
    "#initialize table\n",
    "ts = ThermodynamicTable(fluid, p_inf, T_inf*0.7, T_wall*1.3,T_inf, 100)\n"
   ]
  },
  {
   "cell_type": "code",
   "execution_count": 663,
   "metadata": {},
   "outputs": [
    {
     "name": "stdout",
     "output_type": "stream",
     "text": [
      "Optimization terminated successfully.\n",
      "         Current function value: 0.000001\n",
      "         Iterations: 63\n",
      "         Function evaluations: 121\n"
     ]
    }
   ],
   "source": [
    "#mesh\n",
    "n=10000\n",
    "x = np.linspace(0,10,n); dx = np.diff(x)\n",
    "\n",
    "#initialization\n",
    "f = np.zeros(n); g = np.zeros(n); h = np.zeros(n)\n",
    "ge= np.ones(n);  t = np.zeros(n); \n",
    "C = np.zeros(n); derC = np.zeros(n)\n",
    "Pr= np.zeros(n); derPr= np.zeros(n)\n",
    "\n",
    "#bc\n",
    "f[0]=0; g[0]=0; ge[0]=ht_w/ht_inf\n",
    "\n",
    "#initial guess\n",
    "h0=0.1; t0=0.1 \n",
    "\n",
    "def solve_ode(x):\n",
    "    h[0]=x[0]\n",
    "    t[0]=x[1]\n",
    "    for i in range(0,n-1):\n",
    "        ip=i+1\n",
    "        hs = ge[i]*h_tinf - 1/2*(g[i]*u_inf)**2\n",
    "        ts.set_prop(hs,g[i],h[i],t[i], u_inf, ht_inf)\n",
    "        h[ip]=h[i]  -((ts.derC + f[i])/ts.C)*h[i]*dx[i]\n",
    "        f[ip]=f[i] + g[i]*dx[i]\n",
    "        g[ip]=g[i] + h[i]*dx[i]\n",
    "        t[ip]=t[i] -((ts.derC/ts.C +ts.derPr/ts.Pr + (f[i]*ts.Pr)/ts.C)*t[i] \n",
    "                   + ts.Pr*h[i]**2)*dx[i]\n",
    "        ge[ip]=ge[i]+t[i]*dx[i]\n",
    "    error = abs(1-g[-1])+abs(1-ge[-1])\n",
    "    return error\n",
    "\n",
    "res = minimize(solve_ode, np.array([h0,t0]), method='Nelder-Mead', options={'xtol': 1e-6, 'disp': True})"
   ]
  },
  {
   "cell_type": "markdown",
   "metadata": {},
   "source": [
    "## Plot solution"
   ]
  },
  {
   "cell_type": "code",
   "execution_count": 661,
   "metadata": {},
   "outputs": [
    {
     "data": {
      "image/png": "[encoded data removed]",
      "text/plain": [
       "<Figure size 1080x360 with 2 Axes>"
      ]
     },
     "metadata": {},
     "output_type": "display_data"
    }
   ],
   "source": [
    "import matplotlib.pyplot as plt\n",
    "%matplotlib inline\n",
    "\n",
    "#calc properties\n",
    "hsv = ge*h_tinf-1/2*(g*u_inf)**2\n",
    "ts.set_prop(hsv,g,t,h, u_inf, ht_inf)    \n",
    "\n",
    "#plot\n",
    "fig,(ax1,ax2) = plt.subplots(1,2, figsize=(15,5))\n",
    "ax1.plot(f, x,label='f')\n",
    "ax1.plot(g, x,label='g')\n",
    "ax1.plot(h, x,label='h')\n",
    "ax1.plot(ge,x,label='ge')\n",
    "ax1.plot(t, x,label='t')\n",
    "ax1.set_xbound(-.1,1.5)\n",
    "ax1.set_ybound(0,10)\n",
    "ax1.legend()\n",
    "ax2.plot(ts.Pr,x, label='Pr')\n",
    "ax2.plot(ts.C,x, label='C')\n",
    "ax2.plot(-ts.derPr,x, label=\"-Pr'\")\n",
    "ax2.plot(-ts.derC,x, label=\"-C'\")\n",
    "ax2.set_ybound(0,10)\n",
    "ax2.legend()\n",
    "plt.savefig(\"blasius_vp.png\")"
   ]
  },
  {
   "cell_type": "markdown",
   "metadata": {},
   "source": [
    "## Store solution"
   ]
  },
  {
   "cell_type": "code",
   "execution_count": 662,
   "metadata": {},
   "outputs": [],
   "source": [
    "import pandas as pd\n",
    "df = pd.DataFrame(np.array([x,f,g,h,ge,t]).T,columns=['x','f','g','h','ge','t'])\n",
    "df.to_csv(\"blasius_vp.csv\",index=None, sep=\"\\t\", header=True)"
   ]
  }
 ],
 "metadata": {
  "kernelspec": {
   "display_name": "Python 3",
   "language": "python",
   "name": "python3"
  },
  "language_info": {
   "codemirror_mode": {
    "name": "ipython",
    "version": 3
   },
   "file_extension": ".py",
   "mimetype": "text/x-python",
   "name": "python",
   "nbconvert_exporter": "python",
   "pygments_lexer": "ipython3",
   "version": "3.5.2"
  }
 },
 "nbformat": 4,
 "nbformat_minor": 2
}

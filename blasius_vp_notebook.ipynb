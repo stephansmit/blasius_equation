{
 "cells": [
  {
   "cell_type": "code",
   "execution_count": 2,
   "metadata": {},
   "outputs": [],
   "source": [
    "import numpy as np\n",
    "import CoolProp as CP\n",
    "import pandas as pd"
   ]
  },
  {
   "cell_type": "markdown",
   "metadata": {},
   "source": [
    "## Compressible Equations"
   ]
  },
  {
   "cell_type": "markdown",
   "metadata": {},
   "source": [
    "The compressible equations are given by:\n",
    "$$ (Cf^{''})^{'} + ff^{''} =0$$\n",
    "$$ \\left(\\frac{C}{Pr}g_e^{'}\\right)^{'} + fg_e^{'} + C\\frac{u_e}{h_e}\\left(f^{''}\\right)^2 =0$$\n",
    "\n",
    "With the boundary conditions:\n",
    "$$f(0)=0,\\quad f^{'}(0)=0,\\quad g_e(0)=g_{e-w}$$"
   ]
  },
  {
   "cell_type": "markdown",
   "metadata": {},
   "source": [
    "## Derivation"
   ]
  },
  {
   "cell_type": "markdown",
   "metadata": {},
   "source": [
    "Define the following variables:\n",
    "$$\n",
    "\\begin{align}\n",
    "A &= Cf^{''} \\\\\n",
    "g &= f^{'}  \\\\\n",
    "h &= g^{'}  \\\\\n",
    "N &= \\frac{C}{Pr}g_e^{'}\n",
    "\\end{align}\n",
    "$$"
   ]
  },
  {
   "cell_type": "markdown",
   "metadata": {},
   "source": [
    "Pluggin into original equations gives:\n",
    "$$\n",
    "\\begin{align}\n",
    "A' + fh &= 0 \\\\\n",
    "f' &= g \\\\\n",
    "g' &= h \\\\\n",
    "N^{'} + f\\frac{Pr}{C}N + C \\frac{u_e}{h_e}t^2 &= 0\n",
    "\\end{align}\n",
    "$$\n"
   ]
  },
  {
   "cell_type": "markdown",
   "metadata": {},
   "source": [
    "This gives the following ODEs to be solved"
   ]
  },
  {
   "cell_type": "markdown",
   "metadata": {},
   "source": [
    "$$\n",
    "\\begin{align}\n",
    "A' &= - ft  \\\\\n",
    "f' &= g \\\\\n",
    "g' &= h \\\\\n",
    "N^{'} &= - f\\frac{Pr}{C}N - C \\frac{u_e}{h_e}t^2 \\\\\n",
    "g_e^{'} &= \\frac{Pr(g_e)}{C(g_e)}N \\\\\n",
    "\\end{align} \n",
    "$$"
   ]
  },
  {
   "cell_type": "markdown",
   "metadata": {},
   "source": [
    "With:\n",
    "$$\n",
    "\\begin{align}\n",
    "Pr(g_e) &= \\mu c_p(g_e) k(g_e) \\\\\n",
    "C(g_e) &=\\frac{\\rho(g_e) \\mu(g_e)}{\\rho_e\\rho_e}\n",
    "\\end{align} \n",
    "$$"
   ]
  },
  {
   "cell_type": "code",
   "execution_count": null,
   "metadata": {},
   "outputs": [],
   "source": []
  }
 ],
 "metadata": {
  "kernelspec": {
   "display_name": "Python 3",
   "language": "python",
   "name": "python3"
  },
  "language_info": {
   "codemirror_mode": {
    "name": "ipython",
    "version": 3
   },
   "file_extension": ".py",
   "mimetype": "text/x-python",
   "name": "python",
   "nbconvert_exporter": "python",
   "pygments_lexer": "ipython3",
   "version": "3.5.2"
  }
 },
 "nbformat": 4,
 "nbformat_minor": 2
}

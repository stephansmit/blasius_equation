{
 "cells": [
  {
   "cell_type": "markdown",
   "metadata": {},
   "source": [
    "# Compressible Boundary layer"
   ]
  },
  {
   "cell_type": "markdown",
   "metadata": {},
   "source": [
    "## Equations"
   ]
  },
  {
   "cell_type": "markdown",
   "metadata": {},
   "source": [
    "The compressible equations are given by:\n",
    "$$\n",
    "\\begin{align}\n",
    " (Cf^{''})^{'} + ff^{''} &=0 \\\\\n",
    "\\left(\\frac{C}{Pr}g_e^{'}\\right)^{'} + fg_e^{'} + C\\frac{u_\\infty}{h_{t\\infty}}\\left(f^{''}\\right)^2 &=0\n",
    "\\end{align}\n",
    "$$\n",
    "With the boundary conditions:\n",
    "$$f(0)=0,\\quad f^{'}(0)=0,\\quad g_e(0)=g_{e-w}$$\n",
    "Where \n",
    "$$\n",
    "f^{'} = \\frac{u}{u_{\\infty}}, \\quad g_{e} = \\frac{h_t}{h_{t\\infty}}, \\quad h_s = h_t - \\frac{1}{2}u^2\n",
    "$$\n",
    "and the $Pr$ and $C$ given by:\n",
    "$$\n",
    "Pr(h_s) = \\frac{\\mu(h_s) c_p(h_s)} {k(h_s)}, \\quad C(h_s) =\\frac{\\rho(h_s) \\mu(h_s)}{\\rho_\\infty\\rho_\\infty} \\\\\n",
    "$$\n"
   ]
  },
  {
   "cell_type": "markdown",
   "metadata": {},
   "source": [
    "## Derivation ODE\n",
    "To solve the above given equations some calculus needs to be done to end up in a form that can be easily solved."
   ]
  },
  {
   "cell_type": "markdown",
   "metadata": {},
   "source": [
    "Starting with rewriting using product rule\n",
    "$$\n",
    "\\begin{align}\n",
    " Cf^{'''} + \\left(C^{'}+ f\\right)f^{''} &=0 \\\\\n",
    "\\frac{C}{Pr}g_e^{''}  + \\left(\\frac{C^{'}}{Pr} + C\\left(\\frac{1}{Pr}\\right)^{'} + f \\right)g_e^{'} + C\\frac{u_\\infty}{h_{t\\infty}}\\left(f^{''}\\right)^2 &=0\n",
    "\\end{align}\n",
    "$$\n",
    "Further rewritten\n",
    "$$ \\frac{C}{Pr}g_e^{''}  + \\left(\\frac{C^{'}}{Pr} + \\frac{C}{Pr^2}{Pr}^{'} + f \\right)g_e^{'} + C\\frac{u_\\infty}{h_{t\\infty}}\\left(f^{''}\\right)^2 =0 $$"
   ]
  },
  {
   "cell_type": "markdown",
   "metadata": {},
   "source": [
    "Define the following variables:\n",
    "$$\n",
    "\\begin{align}\n",
    "g &= f^{'}  \\\\\n",
    "h &= g^{'}  \\\\\n",
    "t &= g_e^{'}\n",
    "\\end{align}\n",
    "$$"
   ]
  },
  {
   "cell_type": "markdown",
   "metadata": {},
   "source": [
    "Pluggin into original equations gives:\n",
    "$$\n",
    "\\begin{align}\n",
    "Ch^{'} + \\left(C^{'}+f\\right) h &= 0 \\\\\n",
    "f' &= g \\\\\n",
    "g' &= h \\\\\n",
    "\\frac{C}{Pr}t^{'}  + \\left(\\frac{C^{'}}{Pr} + \\frac{C}{Pr^2}{Pr}^{'} + f \\right)t + C\\frac{u_{\\infty}}{h_{t\\infty}}\\left(h\\right)^2 &=0 \\\\\n",
    "g_e^{'} &= t\n",
    "\\end{align}\n",
    "$$"
   ]
  },
  {
   "cell_type": "markdown",
   "metadata": {},
   "source": [
    "This gives the following ODEs to be solved"
   ]
  },
  {
   "cell_type": "markdown",
   "metadata": {},
   "source": [
    "$$\n",
    "\\begin{align}\n",
    "h^{'} &=- \\frac{\\left(C^{'}+f\\right)}{C} h  \\\\\n",
    "f' &= g \\\\\n",
    "g' &= h \\\\\n",
    "t^{'}  &=- \\left(\\frac{C^{'}}{C} + \\frac{Pr}{Pr}^{'} + \\frac{fPr}{C} \\right)t - Pr\\frac{u_\\infty}{h_{t\\infty}}\\left(h\\right)^2 \\\\\n",
    "g_e^{'} &= t\n",
    "\\end{align}\n",
    "$$\n"
   ]
  },
  {
   "cell_type": "markdown",
   "metadata": {},
   "source": [
    "## Thermodynamic properties\n",
    "\n",
    "To calculate the $Pr$ and $C$ we will use CoolProp in combination with an interpolation procedure. \n",
    "\n",
    "The equations for the thermodynamic properties as a function of the static enthalpy $h_s$ are given by:\n",
    "\n",
    "$$\n",
    "\\begin{align}\n",
    "Pr(h_s) &= \\frac{\\mu(h_s) c_p(h_s)} {k(h_s)} \\\\ \n",
    "C(h_s)  &=\\frac{\\rho(h_s) \\mu(h_s)}{\\rho_\\infty\\mu_\\infty} \\\\\n",
    "\\end{align}\n",
    "$$\n",
    "\n",
    "The derivatives of these properties can be rewritten, given that:\n",
    "\n",
    "$$\n",
    "h_s' = h_t{'} - \\frac{1}{2} \\left( u^2 \\right)^{'} = (h_{t\\infty}g_e)^{'} - uu^{'} = h_{t\\infty}t - u_\\infty^2 g h\n",
    "$$\n",
    "\n",
    "Which results in the following expression for the derivatives:\n",
    "$$\n",
    "\\begin{align}\n",
    "C' &= \\frac{\\partial C}{\\partial h_s} h_s^{'} = \\frac{\\partial C}{\\partial h_s}  \\left(h_{t\\infty}t - u_\\infty^2 g h\\right)\\\\\n",
    "Pr' &= \\frac{\\partial Pr}{\\partial h_s} h_s^{'} =  \\frac{\\partial Pr}{\\partial h_s} \\left(h_{t\\infty}t - u_\\infty^2 g h\\right)\n",
    "\\end{align}\n",
    "$$"
   ]
  },
  {
   "cell_type": "code",
   "execution_count": 58,
   "metadata": {},
   "outputs": [],
   "source": [
    "from scipy.interpolate import interp1d\n",
    "import  CoolProp.CoolProp as CP\n",
    "class ThermodynamicTable(object):\n",
    "    def __init__(self, fluid, p, hmin, hmax, ht_inf, u_inf, n):\n",
    "        self.fluid = fluid\n",
    "        self.P = p\n",
    "        self.n  = n\n",
    "        self.hmin = hmin\n",
    "        self.hmax = hmax\n",
    "        self._set_zeroprop(ht_inf, u_inf)\n",
    "        self._create_vectors()\n",
    "        self._create_functions()\n",
    "    \n",
    "    def set_prop(self,hs,g,h,t,u_inf,ht_inf):\n",
    "        self.Pr   = self.Prf(hs)\n",
    "        self.C    = self.Cf(hs)\n",
    "        self.derPr= self.derPrf(hs)*(ht_inf*t-(u_inf**2)*g*h)\n",
    "        self.derC = self.derCf (hs)*(ht_inf*t-(u_inf**2)*g*h)\n",
    "                    \n",
    "    def _set_zeroprop(self, ht_inf, u_inf):\n",
    "        self.mu0 = CP.PropsSI(\"V\", 'P', self.P, \"H\", ht_inf-(1/2)*(u_inf)**2, self.fluid)\n",
    "        self.rho0= CP.PropsSI(\"D\", 'P', self.P, \"H\", ht_inf-(1/2)*(u_inf)**2, self.fluid)\n",
    "\n",
    "    def _create_vectors(self):\n",
    "        self.Hvec    = np.array([self.hmin+(self.hmax-self.hmin)*i/(self.n-1) for i in range(0,self.n)])\n",
    "        self.Prvec   = np.array([self._calc_Pr(h) for h in self.Hvec])\n",
    "        self.Cvec    = np.array([self._calc_C (h) for h in self.Hvec])\n",
    "        self.derPrvec= np.array([self._calc_derivative(self._calc_Pr,h) for h in self.Hvec])\n",
    "        self.derCvec = np.array([self._calc_derivative(self._calc_C ,h) for h in self.Hvec])\n",
    " \n",
    "    def _create_functions(self):\n",
    "        self.Prf   = interp1d(self.Hvec, self.Prvec,    kind='cubic')\n",
    "        self.Cf    = interp1d(self.Hvec, self.Cvec ,    kind='cubic')\n",
    "        self.derPrf= interp1d(self.Hvec, self.derPrvec, kind='cubic')\n",
    "        self.derCf = interp1d(self.Hvec, self.derCvec , kind='cubic')\n",
    "    \n",
    "    def _calc_C(self,H):\n",
    "        rho = CP.PropsSI(\"D\",'P',self.P, \"H\", H, self.fluid)\n",
    "        mu  = CP.PropsSI(\"V\",'P',self.P, \"H\", H, self.fluid)\n",
    "        return (rho*mu)/(self.rho0*self.mu0)\n",
    "        \n",
    "    def _calc_Pr(self,H):\n",
    "        mu = CP.PropsSI(\"V\",'P',self.P, \"H\", H, self.fluid)\n",
    "        cp = CP.PropsSI(\"C\",'P',self.P, \"H\", H, self.fluid)\n",
    "        k  = CP.PropsSI(\"L\",'P',self.P, \"H\", H, self.fluid)\n",
    "        return (mu*cp)/k\n",
    "               \n",
    "    def _calc_derivative(self,function, h):\n",
    "        delta = 1\n",
    "        y2 = function(h+delta)\n",
    "        y1 = function(h)\n",
    "        return (y2-y1)/delta\n",
    "        \n",
    "    def plot(self):\n",
    "        fig, ax = plt.subplots()\n",
    "        ax.plot (self.Hvec/1e3, self.Prvec,   color='r', linestyle='--', label='Pr' )\n",
    "        ax.plot (self.Hvec/1e3, self.Cvec,    color='r', linestyle='-' , label='C'  )\n",
    "        ax.set_xlabel(\"Enthalpy [kJ/kg]\")\n",
    "        ax.set_ylabel(\"-\")\n",
    "        ax.legend(loc=4)\n",
    "        ax1 = ax.twinx()\n",
    "        ax1.plot(self.Hvec/1e3, self.derPrvec*1e3,color='b', linestyle='--', label=\"Pr'\")\n",
    "        ax1.plot(self.Hvec/1e3, self.derCvec*1e3, color='b', linestyle='-' , label=\"C'\" )\n",
    "        ax1.legend(loc=3)\n",
    "        "
   ]
  },
  {
   "cell_type": "markdown",
   "metadata": {},
   "source": [
    "## Initialize table"
   ]
  },
  {
   "cell_type": "code",
   "execution_count": 60,
   "metadata": {},
   "outputs": [
    {
     "data": {
      "image/png": "[encoded data removed]",
      "text/plain": [
       "<Figure size 432x288 with 2 Axes>"
      ]
     },
     "metadata": {
      "needs_background": "light"
     },
     "output_type": "display_data"
    }
   ],
   "source": [
    "import numpy as np\n",
    "from scipy.optimize import minimize\n",
    "fluid = \"CO2\"\n",
    "\n",
    "#free stream properties\n",
    "p_inf = 100e5  # [Pa]\n",
    "u_inf = 10     # [m/s]\n",
    "T_inf = 480    # [K]\n",
    "T_wall= 520    # [K]\n",
    "ht_w  = CP.PropsSI('H','T', T_wall, \"P\", p_inf, fluid )\n",
    "ht_inf= CP.PropsSI('H','T', T_inf , \"P\", p_inf, fluid ) \n",
    "\n",
    "#initialize table\n",
    "ts = ThermodynamicTable(fluid, p_inf, ht_inf*0.7,ht_inf*2,ht_inf,u_inf, 100)\n",
    "ts.plot()"
   ]
  },
  {
   "cell_type": "markdown",
   "metadata": {},
   "source": [
    "## Solve ODES\n",
    "### Numerical Method\n",
    "The odes are solved using a first order forward euler discretization. This results in:\n",
    "\n",
    "$$\n",
    "\\begin{align}\n",
    "h(x+\\Delta x) &= h(x) -\\frac{C^{'}+f(x)}{C}h(x)\\Delta x& \\\\\n",
    "f(x+\\Delta x) &= f(x) +g(x)\\Delta x&      \\\\\n",
    "g(x+\\Delta x) &= g(x) +h(x)\\Delta x&      \\\\\n",
    "t(x+\\Delta x) &= t(x) -\\left(\\left(\\frac{C^{'}}{C} + \\frac{Pr^{'}}{Pr} + \\frac{fPr}{C} \\right)t(x) + Pr\\frac{u_\\infty}{h_{t\\infty}}h(x)^2\\right)\\Delta x& \\\\\n",
    "g_e(x+\\Delta x)&= g_e(x)+t(x)\\Delta x& \\\\\n",
    "\\end{align} \n",
    "$$"
   ]
  },
  {
   "cell_type": "code",
   "execution_count": 51,
   "metadata": {},
   "outputs": [
    {
     "name": "stdout",
     "output_type": "stream",
     "text": [
      "1.1244090425376594\n",
      "1.1053881474296416\n",
      "1.1463246919851973\n",
      "1.0839132553671613\n",
      "1.0536013274296594\n",
      "1.0362147585201777\n",
      "0.9948043037512468\n",
      "0.946529586922553\n",
      "0.8735014015455083\n",
      "0.8239604953357998\n",
      "0.7243786806966528\n",
      "0.624997310444434\n",
      "0.47645659128960105\n",
      "0.449877067359039\n",
      "0.4910259472196107\n",
      "0.5259302594169938\n",
      "0.4916632783282483\n",
      "0.5630278924037838\n",
      "0.470124183583567\n",
      "0.4737417089267777\n",
      "0.4676395572909996\n",
      "0.44814196695541886\n",
      "0.437335609408671\n",
      "0.4188977131481727\n",
      "0.3942439647197722\n",
      "0.38318114448979534\n",
      "0.3510569812755545\n",
      "0.3958050008379158\n",
      "0.3733499992874503\n",
      "0.29871214208901065\n",
      "0.2540192971630558\n",
      "0.26519902082294744\n",
      "0.1744199800762819\n",
      "0.09362162809220553\n",
      "0.08315015435592465\n",
      "0.0344460140423446\n",
      "0.1559995406225989\n",
      "0.06360473935186883\n",
      "0.14343016442262924\n",
      "0.0325881487887677\n",
      "0.10962661604889146\n",
      "0.02172468446619613\n",
      "0.046847864237671066\n",
      "0.013568112177082203\n",
      "0.048658396529309256\n",
      "0.012099398882789547\n",
      "0.037558595649009874\n",
      "0.007066421324268157\n",
      "0.01856676006076141\n",
      "0.005456874926655475\n",
      "0.015265356229005045\n",
      "0.005242251820802402\n",
      "0.013527217245207224\n",
      "0.002045207233218327\n",
      "0.0069490918152737\n",
      "0.0023447684629765986\n",
      "0.003825900287821149\n",
      "0.001560053588651522\n",
      "0.00481406598524492\n",
      "0.0006504083654295112\n",
      "0.0026601985496469416\n",
      "0.0008702763480061826\n",
      "0.0013926032764720597\n",
      "0.0006543894106632031\n",
      "0.0019175233920651902\n",
      "0.00030899559672614707\n",
      "0.00048686735433556283\n",
      "0.0007683292981155443\n",
      "0.00036962182095168217\n",
      "0.0004260953916846999\n",
      "0.00020305126680630892\n",
      "0.0008762968940427829\n",
      "0.0001457078968181147\n",
      "0.00040582793580368204\n",
      "0.00018947725024698325\n",
      "6.651476425934e-05\n",
      "0.00019877076996710485\n",
      "0.00031408297940738183\n",
      "6.609343118757494e-05\n",
      "7.829202382203526e-05\n",
      "2.684274023412314e-05\n",
      "0.00015695248864111555\n",
      "1.160812142697587e-05\n",
      "7.678261910104567e-05\n",
      "3.585263118066617e-05\n",
      "4.106237748180419e-05\n",
      "2.1976192860817534e-05\n",
      "4.641903966773331e-05\n",
      "1.625449323161554e-05\n",
      "1.63659750646028e-05\n",
      "6.78029486211873e-06\n",
      "3.3679166560829366e-05\n",
      "3.7712195792849457e-06\n",
      "1.3000337866220235e-05\n",
      "6.074261193367292e-06\n",
      "6.841901202592204e-06\n",
      "3.965899839419862e-06\n",
      "5.879574035860813e-06\n",
      "2.891121870240987e-06\n",
      "1.0628206692731013e-05\n",
      "3.173600330308446e-07\n",
      "2.4494044517098246e-06\n",
      "4.4059527015694044e-06\n",
      "1.7827151306271105e-06\n",
      "1.946956115439491e-06\n",
      "1.1608526243600537e-06\n",
      "1.2789184289374589e-06\n",
      "5.13509724631156e-07\n",
      "Optimization terminated successfully.\n",
      "         Current function value: 0.000000\n",
      "         Iterations: 55\n",
      "         Function evaluations: 108\n"
     ]
    }
   ],
   "source": [
    "#mesh\n",
    "n=10000\n",
    "x = np.linspace(0,10,n); dx = np.diff(x)\n",
    "\n",
    "#initialization\n",
    "f = np.zeros(n); g = np.zeros(n); h = np.zeros(n)\n",
    "ge= np.ones(n);  t = np.zeros(n); \n",
    "\n",
    "#bc\n",
    "f[0]=0; g[0]=0; ge[0]=ht_w/ht_inf\n",
    "\n",
    "#initial guess\n",
    "h0=0.1; t0=0.1 \n",
    "\n",
    "def solve_ode(x):\n",
    "    h[0]=x[0]\n",
    "    t[0]=x[1]\n",
    "    for i in range(0,n-1):\n",
    "        ip=i+1\n",
    "        hs = ge[i]*ht_inf - (1/2)*(g[i]*u_inf)**2\n",
    "        ts.set_prop(hs,g[i],h[i],t[i],u_inf,ht_inf)\n",
    "        h[ip]=h[i]  -((ts.derC + f[i])/ts.C)*h[i]*dx[i]\n",
    "        f[ip]=f[i] + g[i]*dx[i]\n",
    "        g[ip]=g[i] + h[i]*dx[i]\n",
    "        t[ip]=t[i] -((ts.derC/ts.C +ts.derPr/ts.Pr + (f[i]*ts.Pr)/ts.C)*t[i]+ts.Pr*(u_inf/ht_inf)*h[i]**2)*dx[i]\n",
    "        ge[ip]=ge[i]+t[i]*dx[i]\n",
    "    error = abs(1-g[-1])+abs(1-ge[-1])\n",
    "    print(error)\n",
    "    return error\n",
    "\n",
    "res = minimize(solve_ode, np.array([h0,t0]), method='Nelder-Mead', options={'xtol': 1e-6, 'disp': True})"
   ]
  },
  {
   "cell_type": "markdown",
   "metadata": {},
   "source": [
    "## Plot solution"
   ]
  },
  {
   "cell_type": "code",
   "execution_count": 61,
   "metadata": {},
   "outputs": [
    {
     "data": {
      "image/png": "[encoded data removed]",
      "text/plain": [
       "<Figure size 1080x360 with 2 Axes>"
      ]
     },
     "metadata": {
      "needs_background": "light"
     },
     "output_type": "display_data"
    }
   ],
   "source": [
    "import matplotlib.pyplot as plt\n",
    "%matplotlib inline\n",
    "\n",
    "#calc properties\n",
    "hsv = ge*ht_inf-1/2*(g*u_inf)**2\n",
    "ts.set_prop(hsv,g,t,h, u_inf, ht_inf)    \n",
    "\n",
    "#plot\n",
    "fig,(ax1,ax2) = plt.subplots(1,2, figsize=(15,5))\n",
    "ax1.plot(f, x,label='f')\n",
    "ax1.plot(g, x,label='g')\n",
    "ax1.plot(h, x,label='h')\n",
    "ax1.plot(ge,x,label='ge')\n",
    "ax1.plot(t, x,label='t')\n",
    "ax1.set_xbound(-.1,1.5)\n",
    "ax1.set_ybound(0,10)\n",
    "ax1.legend()\n",
    "ax2.plot(ts.Pr,   x, label='Pr')\n",
    "ax2.plot(ts.C,    x, label='C')\n",
    "ax2.plot(ts.derPr,x, label=\"Pr'\")\n",
    "ax2.plot(ts.derC, x, label=\"C'\")\n",
    "ax2.set_ybound(0,10)\n",
    "ax2.legend()\n",
    "fig.tight_layout()\n",
    "plt.savefig(\"blasius_vp.png\")"
   ]
  },
  {
   "cell_type": "markdown",
   "metadata": {},
   "source": [
    "## Store solution"
   ]
  },
  {
   "cell_type": "code",
   "execution_count": 50,
   "metadata": {},
   "outputs": [],
   "source": [
    "import pandas as pd\n",
    "df = pd.DataFrame(np.array([x,f,g,h,ge,t]).T,columns=['x','f','g','h','ge','t'])\n",
    "df.to_csv(\"blasius_vp.csv\",index=None, sep=\"\\t\", header=True)"
   ]
  }
 ],
 "metadata": {
  "kernelspec": {
   "display_name": "Python 3",
   "language": "python",
   "name": "python3"
  },
  "language_info": {
   "codemirror_mode": {
    "name": "ipython",
    "version": 3
   },
   "file_extension": ".py",
   "mimetype": "text/x-python",
   "name": "python",
   "nbconvert_exporter": "python",
   "pygments_lexer": "ipython3",
   "version": "3.6.8"
  }
 },
 "nbformat": 4,
 "nbformat_minor": 2
}

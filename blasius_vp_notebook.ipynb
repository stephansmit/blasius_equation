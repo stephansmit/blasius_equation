{
 "cells": [
  {
   "cell_type": "markdown",
   "metadata": {},
   "source": [
    "# Compressible Boundary layer"
   ]
  },
  {
   "cell_type": "markdown",
   "metadata": {},
   "source": [
    "## Equations"
   ]
  },
  {
   "cell_type": "markdown",
   "metadata": {},
   "source": [
    "The compressible equations are given by:\n",
    "$$\n",
    "\\begin{align}\n",
    " (Cf^{''})^{'} + ff^{''} &=0 \\\\\n",
    "\\left(\\frac{C}{Pr}g_e^{'}\\right)^{'} + fg_e^{'} + C\\frac{u_e}{h_e}\\left(f^{''}\\right)^2 &=0\n",
    "\\end{align}\n",
    "$$\n",
    "With the boundary conditions:\n",
    "$$f(0)=0,\\quad f^{'}(0)=0,\\quad g_e(0)=g_{e-w}$$"
   ]
  },
  {
   "cell_type": "markdown",
   "metadata": {},
   "source": [
    "## Derivation ODE"
   ]
  },
  {
   "cell_type": "markdown",
   "metadata": {},
   "source": [
    "Define the following variables:\n",
    "$$\n",
    "\\begin{align}\n",
    "A &= Cf^{''} \\\\\n",
    "g &= f^{'}  \\\\\n",
    "h &= g^{'}  \\\\\n",
    "N &= \\frac{C}{Pr}g_e^{'}\n",
    "\\end{align}\n",
    "$$"
   ]
  },
  {
   "cell_type": "markdown",
   "metadata": {},
   "source": [
    "Pluggin into original equations gives:\n",
    "$$\n",
    "\\begin{align}\n",
    "A' + fh &= 0 \\\\\n",
    "f' &= g \\\\\n",
    "g' &= h \\\\\n",
    "N^{'} + f\\frac{Pr}{C}N + C \\frac{u_e}{h_e}h^2 &= 0\n",
    "\\end{align}\n",
    "$$\n"
   ]
  },
  {
   "cell_type": "markdown",
   "metadata": {},
   "source": [
    "This gives the following ODEs to be solved"
   ]
  },
  {
   "cell_type": "markdown",
   "metadata": {},
   "source": [
    "$$\n",
    "\\begin{align}\n",
    "A' &= - fh  \\\\\n",
    "f' &= g \\\\\n",
    "g' &= h \\\\\n",
    "N^{'} &= - f\\frac{Pr(g_e)}{C(g_e)}N - C \\frac{u_e}{h_e}h^2 \\\\\n",
    "g_e^{'} &= \\frac{Pr(g_e)}{C(g_e)}N \\\\\n",
    "\\end{align} \n",
    "$$"
   ]
  },
  {
   "cell_type": "markdown",
   "metadata": {},
   "source": [
    "With:\n",
    "$$\n",
    "\\begin{align}\n",
    "Pr(g_e) &= \\frac{\\mu(g_e) c_p(g_e)} {k(g_e)} \\\\\n",
    "C(g_e) &=\\frac{\\rho(g_e) \\mu(g_e)}{\\rho_e\\rho_e}\n",
    "\\end{align} \n",
    "$$"
   ]
  },
  {
   "cell_type": "markdown",
   "metadata": {},
   "source": [
    "## Numerical Method"
   ]
  },
  {
   "cell_type": "markdown",
   "metadata": {},
   "source": [
    "$$\n",
    "\\begin{align}\n",
    "A(x+\\Delta x) &= A(x)& -& f(x)h(x)\\Delta x \\\\\n",
    "f(x+\\Delta x) &= f(x)& +&g(x)\\Delta x      \\\\\n",
    "g(x+\\Delta x) &= g(x)& +&h(x)\\Delta x      \\\\\n",
    "N(x+\\Delta x) &= N(x)& +&\\left(- f(x)\\frac{Pr(g_e)}{C(g_e)}N(x) - C(g_e) \\frac{u_e}{h_e}h(x)^2\\right)\\Delta x \\\\\n",
    "g_e(x+\\Delta x) &= g_e(x)& +&\\left(\\frac{Pr(g_e)}{C(g_e)}N(x)\\right)\\Delta x \\\\\n",
    "\\end{align} \n",
    "$$"
   ]
  },
  {
   "cell_type": "code",
   "execution_count": 165,
   "metadata": {},
   "outputs": [],
   "source": [
    "import numpy as np\n",
    "n=1000\n",
    "x = np.linspace(0,10,n)\n",
    "dx = np.diff(x)\n",
    "A = np.zeros(n)\n",
    "f = np.zeros(n)\n",
    "g = np.zeros(n)\n",
    "h = np.ones(n)*0.1\n",
    "ge = np.zeros(n)\n",
    "N = np.ones(n)\n"
   ]
  },
  {
   "cell_type": "code",
   "execution_count": 166,
   "metadata": {},
   "outputs": [],
   "source": [
    "import CoolProp as CP\n",
    "\n",
    "def Pr(ge):\n",
    "    return .1\n",
    "def C(ge):\n",
    "    return 1\n"
   ]
  },
  {
   "cell_type": "code",
   "execution_count": 171,
   "metadata": {},
   "outputs": [],
   "source": [
    "niter=0\n",
    "f[0]=0\n",
    "g[0]=0\n",
    "ge[0]=0\n",
    "while niter < 10:\n",
    "    h[0]=.1\n",
    "    N[0]=.1\n",
    "    for i in range(0,n-1):\n",
    "        ip=i+1\n",
    "        A[ip]=-f[i]*h[i]*dx[i] + A[i]\n",
    "        f[ip]=g[i]*dx[i] + f[i]\n",
    "        g[ip]=h[i]*dx[i] + g[i]\n",
    "        N[ip]=(-f[i]*Pr(ge[i])/C(ge[i])*N[i]-C(ge[i])*1*h[i]**2)*dx[i]+N[i]\n",
    "        ge[ip]=Pr(ge[i])/C(ge[i])*N[i]*dx[i]+ge[i]\n",
    "        \n",
    "    niter+=1\n",
    "        "
   ]
  },
  {
   "cell_type": "code",
   "execution_count": 174,
   "metadata": {},
   "outputs": [
    {
     "data": {
      "text/plain": [
       "<matplotlib.legend.Legend at 0x7f7453770d68>"
      ]
     },
     "execution_count": 174,
     "metadata": {},
     "output_type": "execute_result"
    },
    {
     "data": {
      "image/png": "[encoded data removed]",
      "text/plain": [
       "<Figure size 720x360 with 1 Axes>"
      ]
     },
     "metadata": {
      "needs_background": "light"
     },
     "output_type": "display_data"
    }
   ],
   "source": [
    "import matplotlib.pyplot as plt\n",
    "fig,ax = plt.subplots(figsize=(10,5))\n",
    "\n",
    "ax.plot(f, x,label='f')\n",
    "ax.plot(g, x,label='g')\n",
    "ax.plot(h, x,label='h')\n",
    "ax.plot(A, x,label='A')\n",
    "ax.plot(N, x,label='N')\n",
    "ax.plot(ge,x,label='g_e')\n",
    "ax.legend()\n",
    "ax."
   ]
  },
  {
   "cell_type": "code",
   "execution_count": 173,
   "metadata": {},
   "outputs": [],
   "source": [
    "## Store\n",
    "df = pd.DataFrame(np.array([f,g,h,A,N,ge]).T,columns=['f','g','h','A','N','ge']\n",
    "df.to_csv()"
   ]
  },
  {
   "cell_type": "code",
   "execution_count": null,
   "metadata": {},
   "outputs": [],
   "source": []
  }
 ],
 "metadata": {
  "kernelspec": {
   "display_name": "Python 3",
   "language": "python",
   "name": "python3"
  },
  "language_info": {
   "codemirror_mode": {
    "name": "ipython",
    "version": 3
   },
   "file_extension": ".py",
   "mimetype": "text/x-python",
   "name": "python",
   "nbconvert_exporter": "python",
   "pygments_lexer": "ipython3",
   "version": "3.6.8"
  }
 },
 "nbformat": 4,
 "nbformat_minor": 2
}

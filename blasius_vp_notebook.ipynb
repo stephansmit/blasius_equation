{
 "cells": [
  {
   "cell_type": "markdown",
   "metadata": {},
   "source": [
    "# Compressible Boundary layer"
   ]
  },
  {
   "cell_type": "markdown",
   "metadata": {},
   "source": [
    "## Equations"
   ]
  },
  {
   "cell_type": "markdown",
   "metadata": {},
   "source": [
    "The compressible equations are given by:\n",
    "$$\n",
    "\\begin{align}\n",
    " (Cf^{''})^{'} + ff^{''} &=0 \\\\\n",
    "\\left(\\frac{C}{Pr}g_e^{'}\\right)^{'} + fg_e^{'} + C\\frac{u_e}{h_e}\\left(f^{''}\\right)^2 &=0\n",
    "\\end{align}\n",
    "$$\n",
    "With the boundary conditions:\n",
    "$$f(0)=0,\\quad f^{'}(0)=0,\\quad g_e(0)=g_{e-w}$$\n",
    "And the $Pr$ and $C$ given by:\n",
    "$$\n",
    "\\begin{align}\n",
    "Pr(g_e) &= \\frac{\\mu(g_e) c_p(g_e)} {k(g_e)} \\\\\n",
    "C(g_e) &=\\frac{\\rho(g_e) \\mu(g_e)}{\\rho_e\\rho_e} \\\\\n",
    "\\end{align}\n",
    "$$"
   ]
  },
  {
   "cell_type": "markdown",
   "metadata": {},
   "source": [
    "## Derivation ODE"
   ]
  },
  {
   "cell_type": "markdown",
   "metadata": {},
   "source": [
    "Rewrite using product rule\n",
    "\\begin{align}\n",
    " Cf^{'''} + \\left(C^{'}+ f\\right)f^{''} &=0 \\\\\n",
    "\\frac{C}{Pr}g_e^{''}  + \\left(\\frac{C^{'}}{Pr} + C\\left(\\frac{1}{Pr}\\right)^{'} + f \\right)g_e^{'} + C\\frac{u_e}{h_e}\\left(f^{''}\\right)^2 &=0\n",
    "\\end{align}\n",
    "Further rewritten\n",
    "$$ \\frac{C}{Pr}g_e^{''}  + \\left(\\frac{C^{'}}{Pr} + \\frac{C}{Pr^2}{Pr}^{'} + f \\right)g_e^{'} + C\\frac{u_e}{h_e}\\left(f^{''}\\right)^2 =0 $$"
   ]
  },
  {
   "cell_type": "markdown",
   "metadata": {},
   "source": [
    "Define the following variables:\n",
    "$$\n",
    "\\begin{align}\n",
    "g &= f^{'}  \\\\\n",
    "h &= g^{'}  \\\\\n",
    "t &= g_e^{'}\n",
    "\\end{align}\n",
    "$$"
   ]
  },
  {
   "cell_type": "markdown",
   "metadata": {},
   "source": [
    "Pluggin into original equations gives:\n",
    "\n",
    "\\begin{align}\n",
    "Ch^{'} + \\left(C^{'}+f\\right) h &= 0 \\\\\n",
    "f' &= g \\\\\n",
    "g' &= h \\\\\n",
    "\\frac{C}{Pr}t^{'}  + \\left(\\frac{C^{'}}{Pr} + \\frac{C}{Pr^2}{Pr}^{'} + f \\right)t + C\\frac{u_e}{h_e}\\left(h\\right)^2 &=0 \\\\\n",
    "g_e^{'} &= t\n",
    "\\end{align}\n",
    "\n",
    "with\n",
    "\\begin{align}\n",
    "C' &= \\frac{1}{\\rho_e \\mu_e}\\left(\\rho^{'}\\mu + \\rho\\mu^{'}\\right) \\\\\n",
    "Pr' &= \\frac{1}{k}\\left(\\mu^{'}c_p + \\mu c_p^{'} \\right) - \\frac{\\mu c_p}{k^2} k^{'}\n",
    "\\end{align}\n",
    "\n"
   ]
  },
  {
   "cell_type": "markdown",
   "metadata": {},
   "source": [
    "This gives the following ODEs to be solved"
   ]
  },
  {
   "cell_type": "markdown",
   "metadata": {},
   "source": [
    "\\begin{align}\n",
    "h^{'} &=- \\frac{\\left(C^{'}+f\\right)}{C} h  \\\\\n",
    "f' &= g \\\\\n",
    "g' &= h \\\\\n",
    "t^{'}  &=- \\left(\\frac{C^{'}}{C} + \\frac{1}{Pr}{Pr}^{'} + \\frac{fPr}{C} \\right)t - Pr\\frac{u_e}{h_e}\\left(h\\right)^2 \\\\\n",
    "g_e^{'} &= t\n",
    "\\end{align}\n",
    "\n"
   ]
  },
  {
   "cell_type": "markdown",
   "metadata": {},
   "source": [
    "With:\n",
    "$$\n",
    "\\begin{align}\n",
    "C' &= \\frac{1}{\\rho_e \\mu_e}\\left(\\rho^{'}\\mu + \\rho\\mu^{'}\\right) \\\\\n",
    "Pr' &= \\frac{1}{k}\\left(\\mu^{'}c_p + \\mu c_p^{'} \\right) - \\frac{\\mu c_p}{k^2} k^{'}\n",
    "\\end{align}\n",
    "$$"
   ]
  },
  {
   "cell_type": "markdown",
   "metadata": {},
   "source": [
    "## Numerical Method"
   ]
  },
  {
   "cell_type": "markdown",
   "metadata": {},
   "source": [
    "$$\n",
    "\\begin{align}\n",
    "h(x+\\Delta x) &= h(x) -\\frac{C^{'}+f(x)}{C}h(x)\\Delta x& \\\\\n",
    "f(x+\\Delta x) &= f(x) +g(x)\\Delta x&      \\\\\n",
    "g(x+\\Delta x) &= g(x) +h(x)\\Delta x&      \\\\\n",
    "t(x+\\Delta x) &= t(x) -\\left(\\left(\\frac{C^{'}}{C} + \\frac{1}{Pr}{Pr}^{'} + \\frac{fPr}{C} \\right)t(x) + Pr\\frac{u_e}{h_e}\\left(h(x)\\right)^2\\right)\\Delta x& \\\\\n",
    "g_e(x+\\Delta x)&= g_e(x)+t(x)\\Delta x& \\\\\n",
    "\\end{align} \n",
    "$$"
   ]
  },
  {
   "cell_type": "markdown",
   "metadata": {},
   "source": [
    "\\begin{align}\n",
    "Pr(g_e) &= \\frac{\\mu(g_e) c_p(g_e)} {k(g_e)} \\\\\n",
    "C(g_e) &=\\frac{\\rho(g_e) \\mu(g_e)}{\\rho_e\\mu_e} \\\\\n",
    "\\end{align}\n"
   ]
  },
  {
   "cell_type": "markdown",
   "metadata": {},
   "source": [
    "$$\n",
    "\\begin{align}\n",
    "C' &= \\frac{1}{\\rho_e \\mu_e}\\left(\\rho^{'}\\mu + \\rho\\mu^{'}\\right) \\\\\n",
    "Pr' &= \\frac{1}{k}\\left(\\mu^{'}c_p + \\mu c_p^{'} \\right) - \\frac{\\mu c_p}{k^2} k^{'}\n",
    "\\end{align}\n",
    "$$"
   ]
  },
  {
   "cell_type": "code",
   "execution_count": 356,
   "metadata": {},
   "outputs": [],
   "source": [
    "import CoolProp.CoolProp as CP\n",
    "ge0 = 1e6\n",
    "p0  = 2e6\n",
    "ue = 10\n",
    "he = 1\n",
    "mu0 = mu(1)\n",
    "rho0 = rho(1)\n",
    "BICU = CP.AbstractState(\"BICUBIC&HEOS\", \"CO2\")\n",
    "    \n",
    "def Pr(ge):\n",
    "    return mu(ge)*cp(ge)/k(ge)\n",
    "def C(ge):\n",
    "    return rho(ge)*mu(ge)/(rho0*mu0)\n",
    "def mu(ge):\n",
    "    BICU.update(CP.HmassP_INPUTS,ge0*ge,p0);\n",
    "    return BICU.viscosity()\n",
    "def rho(ge):\n",
    "    BICU.update(CP.HmassP_INPUTS,ge0*ge,p0);\n",
    "    return BICU.rhomass()\n",
    "def cp(ge):\n",
    "    BICU.update(CP.HmassP_INPUTS,ge0*ge,p0);\n",
    "    return BICU.cpmass()\n",
    "def k(ge):\n",
    "    BICU.update(CP.HmassP_INPUTS,ge0*ge,p0);\n",
    "    return BICU.conductivity()   \n",
    "def der_cp(ge):\n",
    "    d = 1e-10\n",
    "    BICU.update(CP.HmassP_INPUTS,ge0*ge,p0);\n",
    "    cp1 = BICU.cpmass()\n",
    "    BICU.update(CP.HmassP_INPUTS,ge0*ge+d,p0);\n",
    "    cp0 = BICU.cpmass()    \n",
    "    return (cp1-cp0)/d\n",
    "\n",
    "def der_rho(ge):\n",
    "    d = 1e-10\n",
    "    BICU.update(CP.HmassP_INPUTS,ge0*ge,p0);\n",
    "    rho1 = BICU.rhomass()\n",
    "    BICU.update(CP.HmassP_INPUTS,ge0*ge+d,p0);\n",
    "    rho0 = BICU.rhomass()    \n",
    "    return (rho1-rho0)/d\n",
    "\n",
    "def der_mu(ge):\n",
    "    d = 1e-10\n",
    "    BICU.update(CP.HmassP_INPUTS,ge0*ge,p0);\n",
    "    v1 = BICU.viscosity()\n",
    "    BICU.update(CP.HmassP_INPUTS,ge0*ge+d,p0);\n",
    "    v0 = BICU.viscosity()    \n",
    "    return (v1-v0)/d\n",
    "\n",
    "def der_k(ge):\n",
    "    d = 1e-10\n",
    "    BICU.update(CP.HmassP_INPUTS,ge0*ge,p0);\n",
    "    k1 = BICU.conductivity()\n",
    "    BICU.update(CP.HmassP_INPUTS,ge0*ge+d,p0);\n",
    "    k0 = BICU.conductivity()        \n",
    "    return (k1-k0)/d\n",
    "\n",
    "def derPr(ge,t):\n",
    "    return (1/(rho0*ge0))*(der_rho(ge)*mu(ge)+rho(ge)*der_mu(ge))*t\n",
    "def derC(ge,t):\n",
    "    return (1/k(ge))*(der_mu(ge)*cp(ge)+mu(ge)*der_cp(ge))*t - ((mu(ge)*cp(ge))/(k(ge)**2))*der_k(ge)*t\n",
    "\n"
   ]
  },
  {
   "cell_type": "code",
   "execution_count": null,
   "metadata": {},
   "outputs": [
    {
     "name": "stdout",
     "output_type": "stream",
     "text": [
      "0.4919677380964963 0.6307893781413799 1.1227571162378762 0.1 0.09900990099009901\n",
      "0.1707226539888912 0.9105603165937838 1.081282970582675 0.1 0.09802960494069209\n"
     ]
    }
   ],
   "source": [
    "import numpy as np\n",
    "n=100000\n",
    "x = np.linspace(0,10,n)\n",
    "dx = np.diff(x)\n",
    "f = np.zeros(n)\n",
    "g = np.zeros(n)\n",
    "h = np.zeros(n)\n",
    "ge = np.zeros(n)\n",
    "t = np.zeros(n)\n",
    "f[0]=0\n",
    "g[0]=0\n",
    "ge[0]=0.1\n",
    "dh=0.1\n",
    "dt=0.1\n",
    "h[0]=0.5\n",
    "t[0]=.5\n",
    "error=0\n",
    "niter=0    \n",
    "while niter < 1000:\n",
    "    for i in range(0,n-1):\n",
    "        ip=i+1\n",
    "        derCtmp = derC(ge[i],t[i])\n",
    "        derPrtmp = derPr(ge[i],t[i])\n",
    "        Prtmp = Pr(ge[i])\n",
    "        Ctmp = C(ge[i])\n",
    "        h[ip]=h[i]  -((derCtmp + f[i])/Ctmp)*h[i]*dx[i]\n",
    "        f[ip]=f[i] + g[i]*dx[i]\n",
    "        g[ip]=g[i] + h[i]*dx[i]\n",
    "        t[ip]=t[i] -((derCtmp/Ctmp+derPrtmp/Prtmp+ \\\n",
    "                      (f[i]*Prtmp)/Ctmp)*t[i]+Prtmp*h[i]**2)*dx[i]\n",
    "        ge[ip]=ge[i]+t[i]*dx[i]\n",
    "    niter+=1\n",
    "    #update bc\n",
    "\n",
    "    if (g[-1] < 1.0):\n",
    "        h[0] = h[0] + dh;\n",
    "    else:\n",
    "        h[0] = h[0] - dh;\n",
    "        dh = dh/1.01;\n",
    "        h[0] = h[0] + dh;\n",
    "    \n",
    "    if (ge[-1] < 1.0):\n",
    "        t[0] = t[0] + dt;\n",
    "    else:\n",
    "        t[0] = t[0] - dt;\n",
    "        dt = dt/1.01;\n",
    "        t[0] = t[0] + dt;\n",
    "    #calc error\n",
    "    error = abs(1-g[-1])+abs(1-ge[-1])\n",
    "    print(error,ge[-1],g[-1],dt,dh)"
   ]
  },
  {
   "cell_type": "code",
   "execution_count": 367,
   "metadata": {},
   "outputs": [
    {
     "data": {
      "text/plain": [
       "<matplotlib.legend.Legend at 0x7fbe07e71eb8>"
      ]
     },
     "execution_count": 367,
     "metadata": {},
     "output_type": "execute_result"
    },
    {
     "data": {
      "image/png": "[encoded data removed]",
      "text/plain": [
       "<Figure size 432x288 with 1 Axes>"
      ]
     },
     "metadata": {},
     "output_type": "display_data"
    }
   ],
   "source": [
    "import matplotlib.pyplot as plt\n",
    "%matplotlib inline\n",
    "fig,ax = plt.subplots()\n",
    "ax.plot(f, x,label='f')\n",
    "ax.plot(g, x,label='g')\n",
    "ax.plot(h, x,label='h')\n",
    "ax.plot(ge, x,label='ge')\n",
    "ax.plot(t, x,label='t')\n",
    "ax.set_xbound(0,1.5)\n",
    "ax.set_ybound(0,10)\n",
    "ax.legend()\n"
   ]
  },
  {
   "cell_type": "code",
   "execution_count": null,
   "metadata": {},
   "outputs": [],
   "source": []
  },
  {
   "cell_type": "code",
   "execution_count": 368,
   "metadata": {},
   "outputs": [
    {
     "data": {
      "text/plain": [
       "array([6.00000006e-01, 5.99948634e-01, 5.99897271e-01, ...,\n",
       "       1.04146632e-13, 1.04079265e-13, 1.04011940e-13])"
      ]
     },
     "execution_count": 368,
     "metadata": {},
     "output_type": "execute_result"
    }
   ],
   "source": [
    "t"
   ]
  },
  {
   "cell_type": "code",
   "execution_count": null,
   "metadata": {},
   "outputs": [],
   "source": []
  }
 ],
 "metadata": {
  "kernelspec": {
   "display_name": "Python 3",
   "language": "python",
   "name": "python3"
  },
  "language_info": {
   "codemirror_mode": {
    "name": "ipython",
    "version": 3
   },
   "file_extension": ".py",
   "mimetype": "text/x-python",
   "name": "python",
   "nbconvert_exporter": "python",
   "pygments_lexer": "ipython3",
   "version": "3.5.2"
  }
 },
 "nbformat": 4,
 "nbformat_minor": 2
}

{
 "cells": [
  {
   "cell_type": "markdown",
   "metadata": {},
   "source": [
    "# Compressible Boundary layer"
   ]
  },
  {
   "cell_type": "markdown",
   "metadata": {},
   "source": [
    "## Equations"
   ]
  },
  {
   "cell_type": "markdown",
   "metadata": {},
   "source": [
    "The compressible equations are given by as presented in [Hypersonic flow theory; p. 288](https://gymkhana.iitb.ac.in/~scp/scp/ocw/aerospace/AE%20624%20-%20Hypersonic%20flow%20theory/Hypersonic%20and%20high-temperature%20gas%20dynamics%20-%20John%20David%20Anderson.pdf)\n",
    ":\n",
    "$$\n",
    "\\begin{align}\n",
    " (Cf^{''})^{'} + ff^{''} &=0 \\\\\n",
    "\\left(\\frac{C}{Pr}g_e^{'}\\right)^{'} + fg_e^{'} + C\\frac{u_\\infty^2}{h_{t\\infty}}\\left(f^{''}\\right)^2 &=0\n",
    "\\end{align}\n",
    "$$\n",
    "\n",
    "\n",
    "With the boundary conditions:\n",
    "$$f(0)=0,\\quad f^{'}(0)=0,\\quad g_e(0)=g_{e-w}$$\n",
    "Where \n",
    "$$\n",
    "f^{'} = \\frac{u}{u_{\\infty}}, \\quad g_{e} = \\frac{h_t}{h_{t\\infty}}, \\quad h_s = h_t - \\frac{1}{2}u^2\n",
    "$$\n",
    "and the $Pr$ and $C$ given by:\n",
    "$$\n",
    "Pr(h_s) = \\frac{\\mu(h_s) c_p(h_s)} {k(h_s)}, \\quad C(h_s) =\\frac{\\rho(h_s) \\mu(h_s)}{\\rho_\\infty\\rho_\\infty} \\\\\n",
    "$$\n"
   ]
  },
  {
   "cell_type": "markdown",
   "metadata": {},
   "source": [
    "## Derivation ODE\n",
    "To solve the above given equations some calculus needs to be done to end up in a form that can be easily solved."
   ]
  },
  {
   "cell_type": "markdown",
   "metadata": {},
   "source": [
    "]Starting with rewriting using product rule\n",
    "$$\n",
    "\\begin{align}\n",
    " Cf^{'''} + \\left(C^{'}+ f\\right)f^{''} &=0 \\\\\n",
    "\\frac{C}{Pr}g_e^{''}  + \\left(\\frac{C^{'}}{Pr} + C\\left(\\frac{1}{Pr}\\right)^{'} + f \\right)g_e^{'} + C\\frac{u_\\infty^2}{h_{t\\infty}}\\left(f^{''}\\right)^2 &=0\n",
    "\\end{align}\n",
    "$$\n",
    "Further rewritten\n",
    "$$ \\frac{C}{Pr}g_e^{''}  + \\left(\\frac{C^{'}}{Pr} + \\frac{C}{Pr^2}{Pr}^{'} + f \\right)g_e^{'} + C\\frac{u_\\infty^2}{h_{t\\infty}}\\left(f^{''}\\right)^2 =0 $$"
   ]
  },
  {
   "cell_type": "markdown",
   "metadata": {},
   "source": [
    "Define the following variables:\n",
    "$$\n",
    "\\begin{align}\n",
    "g &= f^{'}  \\\\\n",
    "h &= g^{'}  \\\\\n",
    "t &= g_e^{'}\n",
    "\\end{align}\n",
    "$$"
   ]
  },
  {
   "cell_type": "markdown",
   "metadata": {},
   "source": [
    "Pluggin into original equations gives:\n",
    "$$\n",
    "\\begin{align}\n",
    "Ch^{'} + \\left(C^{'}+f\\right) h &= 0 \\\\\n",
    "f' &= g \\\\\n",
    "g' &= h \\\\\n",
    "\\frac{C}{Pr}t^{'}  + \\left(\\frac{C^{'}}{Pr} + \\frac{C}{Pr^2}{Pr}^{'} + f \\right)t + C\\frac{u_{\\infty}^2}{h_{t\\infty}}\\left(h\\right)^2 &=0 \\\\\n",
    "g_e^{'} &= t\n",
    "\\end{align}\n",
    "$$"
   ]
  },
  {
   "cell_type": "markdown",
   "metadata": {},
   "source": [
    "This gives the following ODEs to be solved"
   ]
  },
  {
   "cell_type": "markdown",
   "metadata": {},
   "source": [
    "$$\n",
    "\\begin{align}\n",
    "h^{'} &=- \\frac{\\left(C^{'}+f\\right)}{C} h  \\\\\n",
    "f' &= g \\\\\n",
    "g' &= h \\\\\n",
    "t^{'}  &=- \\left(\\frac{C^{'}}{C} + \\frac{Pr}{Pr}^{'} + \\frac{fPr}{C} \\right)t - Pr\\frac{u_\\infty^2}{h_{t\\infty}}\\left(h\\right)^2 \\\\\n",
    "g_e^{'} &= t\n",
    "\\end{align}\n",
    "$$\n"
   ]
  },
  {
   "cell_type": "markdown",
   "metadata": {},
   "source": [
    "## Thermodynamic properties\n",
    "\n",
    "To calculate the $Pr$ and $C$ we will use CoolProp in combination with an interpolation procedure. \n",
    "\n",
    "The equations for the thermodynamic properties as a function of the static enthalpy $h_s$ are given by:\n",
    "\n",
    "$$\n",
    "\\begin{align}\n",
    "Pr(h_s) &= \\frac{\\mu(h_s) c_p(h_s)} {k(h_s)} \\\\ \n",
    "C(h_s)  &=\\frac{\\rho(h_s) \\mu(h_s)}{\\rho_\\infty\\mu_\\infty} \\\\\n",
    "\\end{align}\n",
    "$$\n",
    "\n",
    "The derivatives of these properties can be rewritten, given that:\n",
    "\n",
    "$$\n",
    "h_s' = h_t{'} - \\frac{1}{2} \\left( u^2 \\right)^{'} = (h_{t\\infty}g_e)^{'} - uu^{'} =h_{t\\infty}g_e^{'} - u_\\infty g (u_\\infty g)^{'}= h_{t\\infty}t - u_\\infty^2 g h\n",
    "$$\n",
    "\n",
    "Which results in the following expression for the derivatives:\n",
    "$$\n",
    "\\begin{align}\n",
    "C' &= \\frac{\\partial C}{\\partial h_s} h_s^{'} = \\frac{\\partial C}{\\partial h_s}  \\left(h_{t\\infty}t - u_\\infty^2 g h\\right)\\\\\n",
    "Pr' &= \\frac{\\partial Pr}{\\partial h_s} h_s^{'} =  \\frac{\\partial Pr}{\\partial h_s} \\left(h_{t\\infty}t - u_\\infty^2 g h\\right)\n",
    "\\end{align}\n",
    "$$"
   ]
  },
  {
   "cell_type": "code",
   "execution_count": 3,
   "metadata": {},
   "outputs": [],
   "source": [
    "from scipy.interpolate import interp1d\n",
    "import  CoolProp.CoolProp as CP\n",
    "class ThermodynamicTable(object):\n",
    "    def __init__(self, fluid, p, hmin, hmax, ht_inf, u_inf, n):\n",
    "        self.fluid = fluid\n",
    "        self.P = p\n",
    "        self.n  = n\n",
    "        self.hmin = hmin\n",
    "        self.hmax = hmax\n",
    "        self._set_zeroprop(ht_inf, u_inf)\n",
    "        self._create_vectors()\n",
    "        self._create_functions()\n",
    "    \n",
    "    def set_prop(self,hs,g,h,t,u_inf,ht_inf):\n",
    "        self.Pr   = self.Prf(hs)\n",
    "        self.C    = self.Cf (hs)\n",
    "        self.derPr= self.derPrf(hs)*(ht_inf*t-(u_inf**2)*g*h)\n",
    "        self.derC = self.derCf (hs)*(ht_inf*t-(u_inf**2)*g*h)\n",
    "                    \n",
    "    def _set_zeroprop(self, ht_inf, u_inf):\n",
    "        self.mu0 = CP.PropsSI(\"V\", 'P', self.P, \"H\", ht_inf-(1/2)*(u_inf)**2, self.fluid)\n",
    "        self.rho0= CP.PropsSI(\"D\", 'P', self.P, \"H\", ht_inf-(1/2)*(u_inf)**2, self.fluid)\n",
    "\n",
    "    def _create_vectors(self):\n",
    "        self.Hvec    = np.array([self.hmin+(self.hmax-self.hmin)*i/(self.n-1) for i in range(0,self.n)])\n",
    "        self.Prvec   = np.array([self._calc_Pr(h) for h in self.Hvec])\n",
    "        self.Cvec    = np.array([self._calc_C (h) for h in self.Hvec])\n",
    "        self.derPrvec= np.array([self._calc_derivative(self._calc_Pr,h) for h in self.Hvec])\n",
    "        self.derCvec = np.array([self._calc_derivative(self._calc_C ,h) for h in self.Hvec])\n",
    " \n",
    "    def _create_functions(self):\n",
    "        self.Prf   = interp1d(self.Hvec, self.Prvec   ,kind='cubic')\n",
    "        self.Cf    = interp1d(self.Hvec, self.Cvec    ,kind='cubic')\n",
    "        self.derPrf= interp1d(self.Hvec, self.derPrvec,kind='cubic')\n",
    "        self.derCf = interp1d(self.Hvec, self.derCvec ,kind='cubic')\n",
    "    \n",
    "    def _calc_C(self,H):\n",
    "        rho = CP.PropsSI(\"D\",'P',self.P, \"H\", H, self.fluid)\n",
    "        mu  = CP.PropsSI(\"V\",'P',self.P, \"H\", H, self.fluid)\n",
    "        return (rho*mu)/(self.rho0*self.mu0)\n",
    "        \n",
    "    def _calc_Pr(self,H):\n",
    "        mu = CP.PropsSI(\"V\",'P',self.P, \"H\", H, self.fluid)\n",
    "        cp = CP.PropsSI(\"C\",'P',self.P, \"H\", H, self.fluid)\n",
    "        k  = CP.PropsSI(\"L\",'P',self.P, \"H\", H, self.fluid)\n",
    "        return (mu*cp)/k\n",
    "               \n",
    "    def _calc_derivative(self,function, h):\n",
    "        delta = 1\n",
    "        y2 = function(h+delta)\n",
    "        y1 = function(h)\n",
    "        return (y2-y1)/delta\n",
    "        \n",
    "    def plot(self):\n",
    "        fig, ax = plt.subplots()\n",
    "        ax.plot (self.Hvec/1e3, self.Prvec,   color='r', linestyle='--', label='Pr' )\n",
    "        ax.plot (self.Hvec/1e3, self.Cvec,    color='r', linestyle='-' , label='C'  )\n",
    "        ax.set_xlabel(\"Enthalpy [kJ/kg]\")\n",
    "        ax.set_ylabel(\"-\")\n",
    "        ax.legend(loc=4)\n",
    "        ax1 = ax.twinx()\n",
    "        ax1.plot(self.Hvec/1e3, self.derPrvec*1e3,color='b', linestyle='--', label=\"Pr'\")\n",
    "        ax1.plot(self.Hvec/1e3, self.derCvec*1e3, color='b', linestyle='-' , label=\"C'\" )\n",
    "        ax1.legend(loc=3)\n",
    "        "
   ]
  },
  {
   "cell_type": "markdown",
   "metadata": {},
   "source": [
    "## Initialize table"
   ]
  },
  {
   "cell_type": "code",
   "execution_count": 5,
   "metadata": {},
   "outputs": [
    {
     "data": {
      "image/png": "[encoded data removed]",
      "text/plain": [
       "<Figure size 432x288 with 2 Axes>"
      ]
     },
     "metadata": {},
     "output_type": "display_data"
    }
   ],
   "source": [
    "import numpy as np\n",
    "from scipy.optimize import minimize\n",
    "import matplotlib.pyplot as plt\n",
    "%matplotlib inline\n",
    "fluid = \"CO2\"\n",
    "\n",
    "#free stream properties\n",
    "p_inf = 100e5  # [Pa]\n",
    "u_inf = 10     # [m/s]\n",
    "T_inf = 480    # [K]\n",
    "T_wall= 520    # [K]\n",
    "ht_w  = CP.PropsSI('H','T', T_wall, \"P\", p_inf, fluid )\n",
    "ht_inf= CP.PropsSI('H','T', T_inf , \"P\", p_inf, fluid ) \n",
    "\n",
    "#initialize table\n",
    "ts = ThermodynamicTable(fluid, p_inf, ht_inf*0.7,ht_inf*2,ht_inf,u_inf, 100)\n",
    "ts.plot()"
   ]
  },
  {
   "cell_type": "markdown",
   "metadata": {},
   "source": [
    "## Solve ODES\n",
    "### Numerical Method\n",
    "The odes are solved using a first order forward euler discretization. This results in:\n",
    "\n",
    "$$\n",
    "\\begin{align}\n",
    "h(x+\\Delta x) &= h(x) -\\frac{C^{'}+f(x)}{C}h(x)\\Delta x& \\\\\n",
    "f(x+\\Delta x) &= f(x) +g(x)\\Delta x&      \\\\\n",
    "g(x+\\Delta x) &= g(x) +h(x)\\Delta x&      \\\\\n",
    "t(x+\\Delta x) &= t(x) -\\left(\\left(\\frac{C^{'}}{C} + \\frac{Pr^{'}}{Pr} + \\frac{fPr}{C} \\right)t(x) + Pr\\frac{u_\\infty^2}{h_{t\\infty}}h(x)^2\\right)\\Delta x& \\\\\n",
    "g_e(x+\\Delta x)&= g_e(x)+t(x)\\Delta x& \\\\\n",
    "\\end{align} \n",
    "$$"
   ]
  },
  {
   "cell_type": "code",
   "execution_count": 6,
   "metadata": {},
   "outputs": [
    {
     "name": "stdout",
     "output_type": "stream",
     "text": [
      "1.1370876201093976\n",
      "1.1180117646187822\n",
      "1.1592667558558636\n",
      "1.0962993361506608\n",
      "1.0657506428973036\n",
      "1.048335989300854\n",
      "1.006714909614163\n",
      "0.9581294408270667\n",
      "0.8848509694031838\n",
      "0.8352931099535105\n",
      "0.7357666241336034\n",
      "0.6367816202234784\n",
      "0.48969128295999853\n",
      "0.44104419579852827\n",
      "0.48039149103976697\n",
      "0.5147215042027312\n",
      "0.4819562735557017\n",
      "0.4811768607663627\n",
      "0.4456786643215739\n",
      "0.4624960978853554\n",
      "0.4208162548682223\n",
      "0.5033479428460845\n",
      "0.43910638385025447\n",
      "0.41963754802966724\n",
      "0.40910194158166036\n",
      "0.39331852356985264\n",
      "0.42056679363174754\n",
      "0.3794473721335626\n",
      "0.3593323383282412\n",
      "0.3541620120804553\n",
      "0.36342053400572627\n",
      "0.31141166262108144\n",
      "0.2738441738335937\n",
      "0.25587629101937004\n",
      "0.22918126014223383\n",
      "0.14709257178369906\n",
      "0.05941378700309263\n",
      "0.009018472199674554\n",
      "0.12468023439306619\n",
      "0.24062321330608183\n",
      "0.11539615827913252\n",
      "0.1335318010826111\n",
      "0.07190770969086813\n",
      "0.0778209181012387\n",
      "0.05058740451723798\n",
      "0.03300614337634533\n",
      "0.062011448729948127\n",
      "0.022428714588742293\n",
      "0.03178695311963797\n",
      "0.02142283707928505\n",
      "0.03413762134897902\n",
      "0.016396180102988045\n",
      "0.005887675351829991\n",
      "0.019754164169810462\n",
      "0.022911613539397635\n",
      "0.006557589829676358\n",
      "0.012987931196872027\n",
      "0.0035520754047804193\n",
      "0.012613733405539174\n",
      "0.0017705395009648406\n",
      "0.009091927037070069\n",
      "0.0025369394732261963\n",
      "0.004984096079536093\n",
      "0.0014238813535453199\n",
      "0.004023616148716602\n",
      "0.0008936433753736761\n",
      "0.002938027758294881\n",
      "0.0005931487789043732\n",
      "0.0014562910063653511\n",
      "0.0007044454351805562\n",
      "0.0015163442942387473\n",
      "0.00035153321316605535\n",
      "0.00045423444916825595\n",
      "0.0005789895711098003\n",
      "0.0003363044501204504\n",
      "0.0010253661312051854\n",
      "0.00019352092194835357\n",
      "0.0005927889845389611\n",
      "0.00020961733472213417\n",
      "9.433323006191596e-05\n",
      "0.00025129324327621827\n",
      "0.00038825391908003937\n",
      "8.842806515529933e-05\n",
      "0.00014683335184106916\n",
      "6.175170155375831e-05\n",
      "0.00017099286423705173\n",
      "2.800399748403848e-05\n",
      "0.00016437047447159792\n",
      "2.7198945917072948e-05\n",
      "7.276613832629675e-05\n",
      "2.8123427640136534e-05\n",
      "3.9135492266084704e-05\n",
      "1.1308994187331223e-05\n",
      "5.902831546600318e-05\n",
      "6.246221584627065e-06\n",
      "4.0155604117297905e-05\n",
      "1.2993997932975176e-05\n",
      "2.3811955624952752e-05\n",
      "5.89162360942197e-06\n",
      "8.386469679155795e-06\n",
      "3.4625807004973197e-06\n",
      "9.959517609736679e-06\n",
      "2.1948037153274313e-06\n",
      "1.0264813311566812e-05\n",
      "1.8525170510930167e-06\n",
      "3.2094447126596037e-06\n",
      "1.5414407067426694e-06\n",
      "4.879792466550015e-06\n",
      "5.15005883272579e-07\n",
      "Optimization terminated successfully.\n",
      "         Current function value: 0.000001\n",
      "         Iterations: 56\n",
      "         Function evaluations: 109\n"
     ]
    }
   ],
   "source": [
    "#mesh\n",
    "n=10000\n",
    "x = np.linspace(0,10,n); dx = np.diff(x)\n",
    "\n",
    "#initialization\n",
    "f = np.zeros(n); g = np.zeros(n); h = np.zeros(n)\n",
    "ge= np.ones(n);  t = np.zeros(n); \n",
    "\n",
    "#bc\n",
    "f[0]=0; g[0]=0; ge[0]=ht_w/ht_inf\n",
    "\n",
    "#initial guess\n",
    "h0=0.1; t0=0.1 \n",
    "\n",
    "def solve_ode(x):\n",
    "    h[0]=x[0]\n",
    "    t[0]=x[1]\n",
    "    for i in range(0,n-1):\n",
    "        ip=i+1\n",
    "        hs = ge[i]*ht_inf - (1/2)*(g[i]*u_inf)**2\n",
    "        ts.set_prop(hs,g[i],h[i],t[i],u_inf,ht_inf)\n",
    "        h[ip]=h[i]  -((ts.derC + f[i])/ts.C)*h[i]*dx[i]\n",
    "        f[ip]=f[i] + g[i]*dx[i]\n",
    "        g[ip]=g[i] + h[i]*dx[i]\n",
    "        t[ip]=t[i] -((ts.derC/ts.C +ts.derPr/ts.Pr + (f[i]*ts.Pr)/ts.C)*t[i]+ts.Pr*(u_inf**2/ht_inf)*h[i]**2)*dx[i]\n",
    "        ge[ip]=ge[i]+t[i]*dx[i]\n",
    "    error = abs(1-g[-1])+abs(1-ge[-1])\n",
    "    print(error)\n",
    "    return error\n",
    "\n",
    "res = minimize(solve_ode, np.array([h0,t0]), method='Nelder-Mead', options={'xtol': 1e-6, 'disp': True})"
   ]
  },
  {
   "cell_type": "markdown",
   "metadata": {},
   "source": [
    "## Plot solution"
   ]
  },
  {
   "cell_type": "code",
   "execution_count": 97,
   "metadata": {},
   "outputs": [
    {
     "data": {
      "image/png": "[encoded data removed]",
      "text/plain": [
       "<Figure size 1080x360 with 3 Axes>"
      ]
     },
     "metadata": {},
     "output_type": "display_data"
    }
   ],
   "source": [
    "#calc properties\n",
    "hsv = ge*ht_inf-1/2*(g*u_inf)**2\n",
    "hsvp = hsv/hsv[-1]\n",
    "ts.set_prop(hsv,g,h,t,u_inf,ht_inf)    \n",
    "\n",
    "#plot\n",
    "fig,(ax1,ax2) = plt.subplots(1,2, figsize=(15,5))\n",
    "ax1.plot(f, x,label='f', linewidth=3)\n",
    "ax1.plot(g, x,label='g', linewidth=3)\n",
    "ax1.plot(h, x,label='h', linewidth=3)\n",
    "ax1.plot(ge,x,label='ge', linewidth=3)\n",
    "ax1.plot(t, x,label='t', linewidth=3)\n",
    "ax1.tick_params(axis='both', labelsize=14)\n",
    "\n",
    "ax1.set_xbound(-.1,1.5)\n",
    "ax1.set_ybound(0,10)\n",
    "ax1.legend(loc=1, prop={'size': 16})\n",
    "ax2.plot(ts.Pr,   x, label='Pr', linestyle='--', color='b', linewidth=3)\n",
    "ax2.plot(ts.C,    x, label='C', linestyle='--', color='b', linewidth=3)\n",
    "ax21 = ax2.twiny()\n",
    "ax21.plot(ts.derPr,x, label=\"Pr'\", linestyle='-', color='r', linewidth=3)\n",
    "ax21.plot(ts.derC, x, label=\"C'\", linestyle='--', color='r', linewidth=3)\n",
    "ax2.set_ybound(0,10)\n",
    "ax21.tick_params(axis='x', colors='red',labelsize=14)\n",
    "ax2.tick_params(axis='x', colors='blue',labelsize=14)\n",
    "ax2.legend(loc=1, prop={'size': 16})\n",
    "ax21.legend(loc=2, prop={'size': 16})\n",
    "fig.tight_layout()\n",
    "plt.savefig(\"blasius_vp.png\")"
   ]
  },
  {
   "cell_type": "markdown",
   "metadata": {},
   "source": [
    "## Store solution"
   ]
  },
  {
   "cell_type": "code",
   "execution_count": 65,
   "metadata": {},
   "outputs": [],
   "source": [
    "import pandas as pd\n",
    "df = pd.DataFrame(np.array([x,f,g,h,ge,t]).T,columns=['x','f','g','h','ge','t'])\n",
    "df.to_csv(\"blasius_vp.csv\",index=None, sep=\"\\t\", header=True)"
   ]
  }
 ],
 "metadata": {
  "kernelspec": {
   "display_name": "Python 3",
   "language": "python",
   "name": "python3"
  },
  "language_info": {
   "codemirror_mode": {
    "name": "ipython",
    "version": 3
   },
   "file_extension": ".py",
   "mimetype": "text/x-python",
   "name": "python",
   "nbconvert_exporter": "python",
   "pygments_lexer": "ipython3",
   "version": "3.5.2"
  }
 },
 "nbformat": 4,
 "nbformat_minor": 2
}

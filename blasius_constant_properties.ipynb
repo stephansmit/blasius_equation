{
 "cells": [
  {
   "cell_type": "code",
   "execution_count": 77,
   "metadata": {},
   "outputs": [],
   "source": [
    "import numpy as np\n",
    "import matplotlib.pyplot as plt\n",
    "import pandas as pd\n",
    "%matplotlib inline"
   ]
  },
  {
   "cell_type": "markdown",
   "metadata": {},
   "source": [
    "## Derivation of ODEs\n",
    "The Blasius equation is given by:\n",
    "$$f^{'''}(x) + \\frac{1}{2}f(x)f^{''}(x)=0$$"
   ]
  },
  {
   "cell_type": "markdown",
   "metadata": {},
   "source": [
    "Substituting the following variables\n",
    "$$ g(x) = f^{'}(x)$$\n",
    "$$ h(x) = g^{'}(x)$$"
   ]
  },
  {
   "cell_type": "markdown",
   "metadata": {},
   "source": [
    "Gives the following set of ODE\n",
    "$$f^{'}(x) = g(x) $$\n",
    "$$g^{'}(x) = h(x) $$\n",
    "$$h^{'}(x) = -\\frac{1}{2}f(x)h(x) $$"
   ]
  },
  {
   "cell_type": "markdown",
   "metadata": {},
   "source": [
    "Using forward Euler for the discretization gives:\n",
    "$$f^{'}(x) = \\frac{f(x+\\Delta x) - f(x)}{\\Delta x} $$\n",
    "$$g^{'}(x) = \\frac{g(x+\\Delta x) - g(x)}{\\Delta x} $$\n",
    "$$h^{'}(x) = \\frac{h(x+\\Delta x) - h(x)}{\\Delta x} $$"
   ]
  },
  {
   "cell_type": "markdown",
   "metadata": {},
   "source": [
    "Substituting in the equation gives:"
   ]
  },
  {
   "cell_type": "markdown",
   "metadata": {},
   "source": [
    "$$f(x+\\Delta x) = g(x)\\Delta x+f(x)$$\n",
    "$$g(x+\\Delta x) = h(x)\\Delta x+g(x)$$\n",
    "$$h(x+\\Delta x) = -\\frac{1}{2}f(x)h(x)\\Delta x+h(x)$$"
   ]
  },
  {
   "cell_type": "markdown",
   "metadata": {},
   "source": [
    "## Solve ODEs"
   ]
  },
  {
   "cell_type": "code",
   "execution_count": 84,
   "metadata": {},
   "outputs": [],
   "source": [
    "#discretization\n",
    "n=200000\n",
    "x = np.append(np.array([0]),np.logspace(-3,1,n-1))\n",
    "# x = np.linspace(0,10,n)\n",
    "\n",
    "dx = np.diff(x)\n",
    "f = np.zeros(n)\n",
    "g = np.zeros(n)\n",
    "h = np.zeros(n)"
   ]
  },
  {
   "cell_type": "code",
   "execution_count": 87,
   "metadata": {},
   "outputs": [],
   "source": [
    "error =1\n",
    "h[0] = .1\n",
    "dh = .1;\n",
    "while (error > 1.0e-6):\n",
    "    #apply bc\n",
    "    f[0] = 0.0\n",
    "    g[0] = 0.0\n",
    "    \n",
    "    #solve equation\n",
    "    for i in range(0,n-1):\n",
    "        ip = i+1\n",
    "        f[ip] =            g[i]*dx[i] + f[i]\n",
    "        g[ip] =            h[i]*dx[i] + g[i]\n",
    "        h[ip] =   -(1/2)*f[i]*h[i]*dx[i] + h[i]\n",
    "    \n",
    "    #update bc\n",
    "    if (g[-1] < 1.0):\n",
    "        h[0] = h[0] + dh;\n",
    "    else:\n",
    "        h[0] = h[0] - dh;\n",
    "        dh = dh/2;\n",
    "        h[0] = h[0] + dh;\n",
    "    #calc error\n",
    "    error = abs(1-g[-1])"
   ]
  },
  {
   "cell_type": "markdown",
   "metadata": {},
   "source": [
    "## Plot solution"
   ]
  },
  {
   "cell_type": "code",
   "execution_count": 95,
   "metadata": {},
   "outputs": [
    {
     "data": {
      "image/png": "[encoded data removed]",
      "text/plain": [
       "<Figure size 432x288 with 1 Axes>"
      ]
     },
     "metadata": {},
     "output_type": "display_data"
    }
   ],
   "source": [
    "fig, ax = plt.subplots()\n",
    "ax.plot(f,x, label='f')\n",
    "ax.plot(g,x, label='g=u')\n",
    "ax.plot(h,x, label='h')\n",
    "# ax.set_yscale(\"log\")\n",
    "ax.set_xlabel(\"x\", fontsize=14)\n",
    "ax.set_ylabel(\"y\", fontsize=14)\n",
    "ax.tick_params(labelsize=12)\n",
    "ax.legend()\n",
    "ax.set_xbound(0,1.5)\n",
    "ax.set_ybound(0,10)\n",
    "plt.savefig(\"blasius_cp.png\")"
   ]
  },
  {
   "cell_type": "markdown",
   "metadata": {},
   "source": [
    "## Store solution"
   ]
  },
  {
   "cell_type": "code",
   "execution_count": 92,
   "metadata": {},
   "outputs": [],
   "source": [
    "df = pd.DataFrame(np.array([x,f,h,g]).T,columns=['x','f','g','h'])\n",
    "df.to_csv(\"blasius_cp.csv\",index=None, sep=\"\\t\", header=True)"
   ]
  }
 ],
 "metadata": {
  "kernelspec": {
   "display_name": "Python 3",
   "language": "python",
   "name": "python3"
  },
  "language_info": {
   "codemirror_mode": {
    "name": "ipython",
    "version": 3
   },
   "file_extension": ".py",
   "mimetype": "text/x-python",
   "name": "python",
   "nbconvert_exporter": "python",
   "pygments_lexer": "ipython3",
   "version": "3.5.2"
  }
 },
 "nbformat": 4,
 "nbformat_minor": 2
}

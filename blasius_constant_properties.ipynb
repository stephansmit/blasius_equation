{
 "cells": [
  {
   "cell_type": "code",
   "execution_count": 159,
   "metadata": {},
   "outputs": [],
   "source": [
    "import numpy as np\n",
    "import matplotlib.pyplot as plt\n",
    "import pandas as pd\n",
    "%matplotlib inline"
   ]
  },
  {
   "cell_type": "markdown",
   "metadata": {},
   "source": [
    "## Derivation of ODEs\n",
    "The Blasius equation is given by:\n",
    "$$f^{'''}(x) + \\frac{1}{2}f^{''}(x)f^{'}(x)=0$$"
   ]
  },
  {
   "cell_type": "markdown",
   "metadata": {},
   "source": [
    "Substituting the following variables\n",
    "$$ g(x) = f^{'}(x)$$\n",
    "$$ h(x) = g^{'}(x)$$"
   ]
  },
  {
   "cell_type": "markdown",
   "metadata": {},
   "source": [
    "Gives the following set of ODE\n",
    "$$f^{'}(x) = g(x) $$\n",
    "$$g^{'}(x) = h(x) $$\n",
    "$$h^{'}(x) = -\\frac{1}{2}h(x)g(x) $$"
   ]
  },
  {
   "cell_type": "markdown",
   "metadata": {},
   "source": [
    "Using forward Euler for the discretization gives:\n",
    "$$f^{'}(x) = \\frac{f(x+\\Delta x) - f(x)}{\\Delta x} $$\n",
    "$$g^{'}(x) = \\frac{g(x+\\Delta x) - g(x)}{\\Delta x} $$\n",
    "$$h^{'}(x) = \\frac{h(x+\\Delta x) - h(x)}{\\Delta x} $$"
   ]
  },
  {
   "cell_type": "markdown",
   "metadata": {},
   "source": [
    "Substituting in the equation gives:"
   ]
  },
  {
   "cell_type": "markdown",
   "metadata": {},
   "source": [
    "$$f(x+\\Delta x) = g(x)\\Delta x+f(x)$$\n",
    "$$g(x+\\Delta x) = h(x)\\Delta x+g(x)$$\n",
    "$$h(x+\\Delta x) = -\\frac{1}{2}h(x)g(x)\\Delta x+h(x)$$"
   ]
  },
  {
   "cell_type": "markdown",
   "metadata": {},
   "source": [
    "## Solve ODEs"
   ]
  },
  {
   "cell_type": "code",
   "execution_count": 160,
   "metadata": {},
   "outputs": [],
   "source": [
    "#discretization\n",
    "n=100\n",
    "x = np.logspace(-3,0,n)\n",
    "dx = np.diff(x)\n",
    "f = np.zeros(n)\n",
    "g = np.zeros(n)\n",
    "h = np.zeros(n)"
   ]
  },
  {
   "cell_type": "code",
   "execution_count": 161,
   "metadata": {},
   "outputs": [],
   "source": [
    "niter = 0\n",
    "while niter < 100: \n",
    "    #apply bc\n",
    "    h[0] = 1\n",
    "    \n",
    "    #solve equation\n",
    "    for i in range(0,n-1):\n",
    "        ip = i+1\n",
    "        f[ip] =            g[i]*dx[i] + f[i]\n",
    "        g[ip] =            h[i]*dx[i] + g[i]\n",
    "        h[ip] = (1/2)*h[i]*g[i]*dx[i] + h[i]\n",
    "    \n",
    "    \n",
    "    niter +=1"
   ]
  },
  {
   "cell_type": "markdown",
   "metadata": {},
   "source": [
    "## Plot solution"
   ]
  },
  {
   "cell_type": "code",
   "execution_count": 172,
   "metadata": {},
   "outputs": [
    {
     "data": {
      "image/png": "[encoded data removed]",
      "text/plain": [
       "<Figure size 432x288 with 1 Axes>"
      ]
     },
     "metadata": {
      "needs_background": "light"
     },
     "output_type": "display_data"
    }
   ],
   "source": [
    "fig, ax = plt.subplots()\n",
    "ax.plot(f,x, label='f', marker='x')\n",
    "ax.plot(h,x, label='h', marker='x')\n",
    "ax.plot(g,x, label='g', marker='x')\n",
    "ax.set_yscale(\"log\")\n",
    "ax.set_xlabel(\"x\", fontsize=14)\n",
    "ax.set_ylabel(\"y\", fontsize=14)\n",
    "ax.tick_params(labelsize=12)\n",
    "ax.set_xbound(-0.5,1.5)\n",
    "ax.set_ybound(1e-3,1)\n",
    "plt.savefig(\"blasius_cp.png\")"
   ]
  },
  {
   "cell_type": "markdown",
   "metadata": {},
   "source": [
    "## Store solution"
   ]
  },
  {
   "cell_type": "code",
   "execution_count": 171,
   "metadata": {},
   "outputs": [],
   "source": [
    "df = pd.DataFrame(np.array([x,f,h,g]).T,columns=['x','f','g','h'])\n",
    "df.to_csv(\"blasius_cp.csv\",index=None, sep=\"\\t\", header=True)"
   ]
  }
 ],
 "metadata": {
  "kernelspec": {
   "display_name": "Python 3",
   "language": "python",
   "name": "python3"
  },
  "language_info": {
   "codemirror_mode": {
    "name": "ipython",
    "version": 3
   },
   "file_extension": ".py",
   "mimetype": "text/x-python",
   "name": "python",
   "nbconvert_exporter": "python",
   "pygments_lexer": "ipython3",
   "version": "3.6.8"
  }
 },
 "nbformat": 4,
 "nbformat_minor": 2
}
